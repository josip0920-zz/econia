{
 "cells": [
  {
   "cell_type": "markdown",
   "id": "bdd58dcb",
   "metadata": {},
   "source": [
    "# Initialization"
   ]
  },
  {
   "cell_type": "code",
   "execution_count": 1,
   "id": "fb80703b",
   "metadata": {},
   "outputs": [],
   "source": [
    "import random\n",
    "\n",
    "from econia.account import Account\n",
    "from econia.defs import networks\n",
    "from econia.rest import (\n",
    "    hex_leader,\n",
    "    EconiaClient\n",
    ")"
   ]
  },
  {
   "cell_type": "code",
   "execution_count": 2,
   "id": "52e8b07d",
   "metadata": {},
   "outputs": [],
   "source": [
    "client = EconiaClient(networks.devnet)\n",
    "art = Account()\n",
    "econia = Account(path='../../.secrets/2ed5db5c34b6bdac8236285b3f281f40f22d1a59c25be39e94dd67922c7cba02.key')"
   ]
  },
  {
   "cell_type": "code",
   "execution_count": 3,
   "id": "0cbfd386",
   "metadata": {},
   "outputs": [],
   "source": [
    "# Fund both with TestCoin to cover tx fees\n",
    "_ = client.mint_testcoin(art.address(), 1_000_000)\n",
    "_ = client.mint_testcoin(econia.address(), 1_000_000)"
   ]
  },
  {
   "cell_type": "code",
   "execution_count": 4,
   "id": "65b4ba8e",
   "metadata": {},
   "outputs": [
    {
     "name": "stdout",
     "output_type": "stream",
     "text": [
      "Art balance: 20000\n",
      "Econia balance: 119796\n"
     ]
    }
   ],
   "source": [
    "print(f'Art balance: {client.testcoin_balance(art.address())}')\n",
    "print(f'Econia balance: {client.testcoin_balance(econia.address())}')"
   ]
  },
  {
   "cell_type": "markdown",
   "id": "caad50b7",
   "metadata": {},
   "source": [
    "# Publish and airdrop"
   ]
  },
  {
   "cell_type": "code",
   "execution_count": 5,
   "id": "fdcb8a39",
   "metadata": {},
   "outputs": [],
   "source": [
    "contract_address = econia.address()\n",
    "airdrop_authority = econia"
   ]
  },
  {
   "cell_type": "code",
   "execution_count": 6,
   "id": "39187d1f",
   "metadata": {},
   "outputs": [
    {
     "data": {
      "text/plain": [
       "{'APT': None, 'USD': None}"
      ]
     },
     "execution_count": 6,
     "metadata": {},
     "output_type": "execute_result"
    }
   ],
   "source": [
    "# Art's account balances pre-publish\n",
    "client.account_econia_coin_balances(\n",
    "    art.address(),\n",
    "    contract_address\n",
    ")"
   ]
  },
  {
   "cell_type": "code",
   "execution_count": 7,
   "id": "e26edb74",
   "metadata": {},
   "outputs": [],
   "source": [
    "# Publish empty balance\n",
    "_ = client.publish_econia_balances(art, contract_address)"
   ]
  },
  {
   "cell_type": "code",
   "execution_count": 8,
   "id": "519c7713",
   "metadata": {},
   "outputs": [
    {
     "data": {
      "text/plain": [
       "{'APT': 0, 'USD': 0}"
      ]
     },
     "execution_count": 8,
     "metadata": {},
     "output_type": "execute_result"
    }
   ],
   "source": [
    "# Art's post-publish balance went from `None` to 0\n",
    "client.account_econia_coin_balances(\n",
    "    art.address(),\n",
    "    contract_address\n",
    ")"
   ]
  },
  {
   "cell_type": "code",
   "execution_count": 9,
   "id": "9bbd807b",
   "metadata": {},
   "outputs": [],
   "source": [
    "# Mint APT and USD\n",
    "_ = client.airdrop_econia_coins(\n",
    "    airdrop_authority,\n",
    "    art.address(),\n",
    "    10,\n",
    "    1250\n",
    ")"
   ]
  },
  {
   "cell_type": "code",
   "execution_count": 10,
   "id": "a9fed43b",
   "metadata": {},
   "outputs": [
    {
     "data": {
      "text/plain": [
       "{'APT': 10, 'USD': 1250}"
      ]
     },
     "execution_count": 10,
     "metadata": {},
     "output_type": "execute_result"
    }
   ],
   "source": [
    "# Post-aidrop balance\n",
    "client.account_econia_coin_balances(\n",
    "    art.address(),\n",
    "    contract_address\n",
    ")"
   ]
  },
  {
   "cell_type": "markdown",
   "id": "d26858d6",
   "metadata": {},
   "source": [
    "# Transfer"
   ]
  },
  {
   "cell_type": "code",
   "execution_count": 11,
   "id": "6e3e24c0",
   "metadata": {},
   "outputs": [
    {
     "data": {
      "text/plain": [
       "{'APT': 0, 'USD': 0}"
      ]
     },
     "execution_count": 11,
     "metadata": {},
     "output_type": "execute_result"
    }
   ],
   "source": [
    "# Open new account for Bud, without APT or USD\n",
    "bud = Account()\n",
    "client.mint_testcoin(bud.address(), 1_000_000)\n",
    "client.publish_econia_balances(bud, contract_address)\n",
    "client.account_econia_coin_balances(\n",
    "    bud.address(),\n",
    "    contract_address\n",
    ")"
   ]
  },
  {
   "cell_type": "code",
   "execution_count": 12,
   "id": "f26d744b",
   "metadata": {},
   "outputs": [
    {
     "data": {
      "text/plain": [
       "{'APT': 3, 'USD': 500}"
      ]
     },
     "execution_count": 12,
     "metadata": {},
     "output_type": "execute_result"
    }
   ],
   "source": [
    "# Transfer from Art to Bud\n",
    "client.transfer_econia_coins(\n",
    "    art,\n",
    "    bud.address(),\n",
    "    contract_address,\n",
    "    3,\n",
    "    500\n",
    ")\n",
    "client.account_econia_coin_balances(\n",
    "    bud.address(),\n",
    "    contract_address\n",
    ")"
   ]
  },
  {
   "cell_type": "code",
   "execution_count": 13,
   "id": "7fe0a33b",
   "metadata": {},
   "outputs": [
    {
     "data": {
      "text/plain": [
       "{'APT': 7, 'USD': 750}"
      ]
     },
     "execution_count": 13,
     "metadata": {},
     "output_type": "execute_result"
    }
   ],
   "source": [
    "# Art's new balance\n",
    "client.account_econia_coin_balances(\n",
    "    art.address(),\n",
    "    contract_address\n",
    ")"
   ]
  }
 ],
 "metadata": {
  "kernelspec": {
   "display_name": "Python 3 (ipykernel)",
   "language": "python",
   "name": "python3"
  },
  "language_info": {
   "codemirror_mode": {
    "name": "ipython",
    "version": 3
   },
   "file_extension": ".py",
   "mimetype": "text/x-python",
   "name": "python",
   "nbconvert_exporter": "python",
   "pygments_lexer": "ipython3",
   "version": "3.9.12"
  },
  "toc": {
   "base_numbering": 1,
   "nav_menu": {},
   "number_sections": true,
   "sideBar": true,
   "skip_h1_title": false,
   "title_cell": "Table of Contents",
   "title_sidebar": "Contents",
   "toc_cell": false,
   "toc_position": {},
   "toc_section_display": true,
   "toc_window_display": false
  }
 },
 "nbformat": 4,
 "nbformat_minor": 5
}
