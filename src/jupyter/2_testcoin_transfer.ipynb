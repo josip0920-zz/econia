{
 "cells": [
  {
   "cell_type": "markdown",
   "id": "32c0c89c",
   "metadata": {},
   "source": [
    "Per Aptos \"Your first transaction\" tutorial"
   ]
  },
  {
   "cell_type": "code",
   "execution_count": 1,
   "id": "337704ad",
   "metadata": {},
   "outputs": [],
   "source": [
    "from ultima.chain import account, connect\n",
    "import random"
   ]
  },
  {
   "cell_type": "code",
   "execution_count": 2,
   "id": "b8c28479",
   "metadata": {},
   "outputs": [
    {
     "data": {
      "text/plain": [
       "b'\\x7f\\r\\xbd\\xd5z\\x80{\\xd9\\xf2Q\\x8b\\xf5\\x83M\\xe5\\xce\\xd1V\\xa4\\xdc\\xba\\xa2\\xc0/\\xa3a\\xa8\\x10F\\xc8\\xa9\\xbb'"
      ]
     },
     "execution_count": 2,
     "metadata": {},
     "output_type": "execute_result"
    }
   ],
   "source": [
    "random.seed('ultima')\n",
    "secret = random.randbytes(32)\n",
    "secret"
   ]
  },
  {
   "cell_type": "code",
   "execution_count": 3,
   "id": "2190da0d",
   "metadata": {},
   "outputs": [],
   "source": [
    "art = account.Account(secret)"
   ]
  },
  {
   "cell_type": "code",
   "execution_count": 4,
   "id": "3a1974d0",
   "metadata": {},
   "outputs": [
    {
     "data": {
      "text/plain": [
       "'0x7b5118ff19c8b9406cd845071de481a89d291e7e44ac717b002f0da0e4296b4c'"
      ]
     },
     "execution_count": 4,
     "metadata": {},
     "output_type": "execute_result"
    }
   ],
   "source": [
    "'0x' + art.address()"
   ]
  },
  {
   "cell_type": "code",
   "execution_count": 5,
   "id": "b0ce23a5",
   "metadata": {},
   "outputs": [
    {
     "data": {
      "text/plain": [
       "'e8058a3c186b216ba0f6502bdbcc9ed9e3e229e24f6c4ee6a0212dfd10272aeb'"
      ]
     },
     "execution_count": 5,
     "metadata": {},
     "output_type": "execute_result"
    }
   ],
   "source": [
    "art.pub_key()"
   ]
  },
  {
   "cell_type": "code",
   "execution_count": 6,
   "id": "9574e265",
   "metadata": {},
   "outputs": [],
   "source": [
    "bud = account.Account(random.randbytes(32))"
   ]
  },
  {
   "cell_type": "code",
   "execution_count": 7,
   "id": "3fac7dde",
   "metadata": {},
   "outputs": [
    {
     "data": {
      "text/plain": [
       "'0x8f226fedfec85f7565c4a7e051ef7902bf583ac4e76d5d1ddc3e26142f2bd7fc'"
      ]
     },
     "execution_count": 7,
     "metadata": {},
     "output_type": "execute_result"
    }
   ],
   "source": [
    "'0x' + bud.address()"
   ]
  },
  {
   "cell_type": "code",
   "execution_count": 8,
   "id": "5a0e99db",
   "metadata": {},
   "outputs": [],
   "source": [
    "devnet_client = connect.RestClient(connect.network_urls.devnet)"
   ]
  },
  {
   "cell_type": "code",
   "execution_count": 9,
   "id": "e5a2ddd8",
   "metadata": {},
   "outputs": [],
   "source": [
    "faucet_client = connect.FaucetClient(\n",
    "    connect.network_urls.devnet_faucet,\n",
    "    devnet_client\n",
    ")"
   ]
  },
  {
   "cell_type": "markdown",
   "id": "f516dea1",
   "metadata": {},
   "source": [
    "Below is interactive: can re-fund accounts, re-send the tx, etc"
   ]
  },
  {
   "cell_type": "code",
   "execution_count": 27,
   "id": "192511d8",
   "metadata": {},
   "outputs": [],
   "source": [
    "# Fund accounts\n",
    "faucet_client.fund_account(art.auth_key(), 1000)\n",
    "faucet_client.fund_account(bud.auth_key(), 0)"
   ]
  },
  {
   "cell_type": "code",
   "execution_count": 28,
   "id": "11efa38e",
   "metadata": {},
   "outputs": [
    {
     "data": {
      "text/plain": [
       "{'sequence_number': '6',\n",
       " 'authentication_key': '0x7b5118ff19c8b9406cd845071de481a89d291e7e44ac717b002f0da0e4296b4c'}"
      ]
     },
     "execution_count": 28,
     "metadata": {},
     "output_type": "execute_result"
    }
   ],
   "source": [
    "# Check Art's metadata\n",
    "devnet_client.account(art.address())"
   ]
  },
  {
   "cell_type": "code",
   "execution_count": 24,
   "id": "bae2dbef",
   "metadata": {},
   "outputs": [
    {
     "data": {
      "text/plain": [
       "3040"
      ]
     },
     "execution_count": 24,
     "metadata": {},
     "output_type": "execute_result"
    }
   ],
   "source": [
    "# Check Art's balance\n",
    "devnet_client.testcoin_balance(art.address())"
   ]
  },
  {
   "cell_type": "code",
   "execution_count": 25,
   "id": "2a1c117b",
   "metadata": {},
   "outputs": [],
   "source": [
    "# Transfer TestCoin\n",
    "tx_hash = devnet_client.transfer_testcoin(\n",
    "    account_from=art,\n",
    "    recipient=bud.address(),\n",
    "    amount=100,\n",
    "    max_gas_amount=300,\n",
    "    gas_unit_price=1,\n",
    "    gas_currency_code=\"XUS\",\n",
    "    timeout_in_s=10\n",
    ")\n",
    "devnet_client.wait_for_tx(tx_hash, 10)"
   ]
  },
  {
   "cell_type": "code",
   "execution_count": 26,
   "id": "37632162",
   "metadata": {},
   "outputs": [
    {
     "data": {
      "text/plain": [
       "600"
      ]
     },
     "execution_count": 26,
     "metadata": {},
     "output_type": "execute_result"
    }
   ],
   "source": [
    "# Check Bud's balance\n",
    "devnet_client.testcoin_balance(bud.address())"
   ]
  }
 ],
 "metadata": {
  "kernelspec": {
   "display_name": "Python 3 (ipykernel)",
   "language": "python",
   "name": "python3"
  },
  "language_info": {
   "codemirror_mode": {
    "name": "ipython",
    "version": 3
   },
   "file_extension": ".py",
   "mimetype": "text/x-python",
   "name": "python",
   "nbconvert_exporter": "python",
   "pygments_lexer": "ipython3",
   "version": "3.9.12"
  },
  "toc": {
   "base_numbering": 1,
   "nav_menu": {},
   "number_sections": true,
   "sideBar": true,
   "skip_h1_title": false,
   "title_cell": "Table of Contents",
   "title_sidebar": "Contents",
   "toc_cell": false,
   "toc_position": {},
   "toc_section_display": true,
   "toc_window_display": false
  }
 },
 "nbformat": 4,
 "nbformat_minor": 5
}
