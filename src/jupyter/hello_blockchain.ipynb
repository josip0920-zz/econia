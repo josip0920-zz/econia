{
 "cells": [
  {
   "cell_type": "markdown",
   "id": "0c3c9521",
   "metadata": {},
   "source": [
    "Per Aptos official \"Your first move transaction\" tutorial"
   ]
  },
  {
   "cell_type": "code",
   "execution_count": null,
   "id": "7b904b27",
   "metadata": {},
   "outputs": [],
   "source": [
    "from ultima.chain import account, connect\n",
    "import os\n",
    "import random"
   ]
  },
  {
   "cell_type": "code",
   "execution_count": null,
   "id": "0a007088",
   "metadata": {},
   "outputs": [],
   "source": [
    "random.seed('Ultima')\n",
    "art = account.Account(random.randbytes(32))\n",
    "bud = account.Account(random.randbytes(32))"
   ]
  },
  {
   "cell_type": "code",
   "execution_count": null,
   "id": "e13b089d",
   "metadata": {},
   "outputs": [],
   "source": [
    "# Add to `src/move/ultima/Move.toml`\n",
    "art.address()"
   ]
  },
  {
   "cell_type": "code",
   "execution_count": null,
   "id": "ef208f67",
   "metadata": {},
   "outputs": [],
   "source": [
    "bud.address()"
   ]
  },
  {
   "cell_type": "code",
   "execution_count": null,
   "id": "b927deb3",
   "metadata": {},
   "outputs": [],
   "source": [
    "hello_client = connect.HelloBlockchainClient(\n",
    "    connect.network_urls.devnet\n",
    ")\n",
    "faucet_client = connect.FaucetClient(\n",
    "    connect.network_urls.devnet_faucet,\n",
    "    hello_client\n",
    ")"
   ]
  },
  {
   "cell_type": "code",
   "execution_count": null,
   "id": "030a41e3",
   "metadata": {},
   "outputs": [],
   "source": [
    "faucet_client.fund_account(art.address(), 10_000_00)\n",
    "faucet_client.fund_account(bud.address(), 10_000_00)"
   ]
  },
  {
   "cell_type": "markdown",
   "id": "abe7ee46",
   "metadata": {},
   "source": [
    "Get module bytecode from Move build"
   ]
  },
  {
   "cell_type": "code",
   "execution_count": null,
   "id": "1585d13a",
   "metadata": {},
   "outputs": [],
   "source": [
    "# Relative to this notebook\n",
    "abs_path = os.path.join(\n",
    "    os.path.dirname(os.getcwd()), # src directory\n",
    "    'move/ultima/build/ultima/bytecode_modules/Message.mv'\n",
    ")"
   ]
  },
  {
   "cell_type": "code",
   "execution_count": null,
   "id": "563ec4f7",
   "metadata": {},
   "outputs": [],
   "source": [
    "with open(abs_path, 'rb') as f:\n",
    "    module_hex = f.read().hex()"
   ]
  },
  {
   "cell_type": "code",
   "execution_count": null,
   "id": "0cfd4e55",
   "metadata": {},
   "outputs": [],
   "source": [
    "# Publish module to alice's address\n",
    "tx_hash = hello_client.publish_module(art, module_hex)"
   ]
  },
  {
   "cell_type": "code",
   "execution_count": null,
   "id": "f5d36f46",
   "metadata": {},
   "outputs": [],
   "source": [
    "# Initial value\n",
    "val = hello_client.get_message(art.address(), art.address())"
   ]
  },
  {
   "cell_type": "code",
   "execution_count": null,
   "id": "51b70436",
   "metadata": {},
   "outputs": [],
   "source": [
    "print(str(val))"
   ]
  },
  {
   "cell_type": "code",
   "execution_count": null,
   "id": "f8031280",
   "metadata": {},
   "outputs": [],
   "source": [
    "# Set arbitrary message"
   ]
  },
  {
   "cell_type": "code",
   "execution_count": null,
   "id": "4710d14f",
   "metadata": {},
   "outputs": [],
   "source": [
    "tx_hash = hello_client.set_message(art.address(), art, 'Hello, World')"
   ]
  }
 ],
 "metadata": {
  "kernelspec": {
   "display_name": "Python 3 (ipykernel)",
   "language": "python",
   "name": "python3"
  },
  "language_info": {
   "codemirror_mode": {
    "name": "ipython",
    "version": 3
   },
   "file_extension": ".py",
   "mimetype": "text/x-python",
   "name": "python",
   "nbconvert_exporter": "python",
   "pygments_lexer": "ipython3",
   "version": "3.9.12"
  },
  "toc": {
   "base_numbering": 1,
   "nav_menu": {},
   "number_sections": true,
   "sideBar": true,
   "skip_h1_title": false,
   "title_cell": "Table of Contents",
   "title_sidebar": "Contents",
   "toc_cell": false,
   "toc_position": {},
   "toc_section_display": true,
   "toc_window_display": false
  }
 },
 "nbformat": 4,
 "nbformat_minor": 5
}
