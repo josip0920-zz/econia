{
 "cells": [
  {
   "cell_type": "markdown",
   "id": "0c3c9521",
   "metadata": {},
   "source": [
    "Per Aptos official \"Your first move transaction\" tutorial"
   ]
  },
  {
   "cell_type": "code",
   "execution_count": 1,
   "id": "7b904b27",
   "metadata": {},
   "outputs": [],
   "source": [
    "import os\n",
    "import random\n",
    "from ultima.chain import account, connect"
   ]
  },
  {
   "cell_type": "markdown",
   "id": "739e826a",
   "metadata": {},
   "source": [
    "# Address configuration"
   ]
  },
  {
   "cell_type": "code",
   "execution_count": 2,
   "id": "0799b57b",
   "metadata": {},
   "outputs": [],
   "source": [
    "random.seed('Bytecode')\n",
    "art = account.Account(random.randbytes(32))"
   ]
  },
  {
   "cell_type": "code",
   "execution_count": 3,
   "id": "5e393f87",
   "metadata": {},
   "outputs": [
    {
     "data": {
      "text/plain": [
       "'0xf5e60e8206deff83ec7ca686a00245fa13ac8a52d43f14d0034f46e10ef5c937'"
      ]
     },
     "execution_count": 3,
     "metadata": {},
     "output_type": "execute_result"
    }
   ],
   "source": [
    "'0x' + art.address()"
   ]
  },
  {
   "cell_type": "markdown",
   "id": "1d3efe02",
   "metadata": {},
   "source": [
    "* Copy to `Move.toml` and run `cargo run -- sources`"
   ]
  },
  {
   "cell_type": "markdown",
   "id": "1159941e",
   "metadata": {},
   "source": [
    "# Client setup"
   ]
  },
  {
   "cell_type": "code",
   "execution_count": 4,
   "id": "e2493c0d",
   "metadata": {},
   "outputs": [],
   "source": [
    "client = connect.HelloBlockchainClient(\n",
    "    connect.network_urls.devnet\n",
    ")\n",
    "faucet_client = connect.FaucetClient(\n",
    "    connect.network_urls.devnet_faucet,\n",
    "    client\n",
    ")"
   ]
  },
  {
   "cell_type": "code",
   "execution_count": 5,
   "id": "6419af97",
   "metadata": {},
   "outputs": [],
   "source": [
    "# Fund account\n",
    "faucet_client.fund_account(art.address(), 1_000_000)"
   ]
  },
  {
   "cell_type": "code",
   "execution_count": 6,
   "id": "27e44b97",
   "metadata": {},
   "outputs": [
    {
     "data": {
      "text/plain": [
       "20000"
      ]
     },
     "execution_count": 6,
     "metadata": {},
     "output_type": "execute_result"
    }
   ],
   "source": [
    "# Get balance\n",
    "client.testcoin_balance(art.address())"
   ]
  },
  {
   "cell_type": "markdown",
   "id": "46e86d8c",
   "metadata": {},
   "source": [
    "# Bytecode"
   ]
  },
  {
   "cell_type": "code",
   "execution_count": 7,
   "id": "73e5b135",
   "metadata": {},
   "outputs": [
    {
     "data": {
      "text/plain": [
       "'a11ceb0b05...0100010100'"
      ]
     },
     "execution_count": 7,
     "metadata": {},
     "output_type": "execute_result"
    }
   ],
   "source": [
    "# Relative to this notebook\n",
    "abs_path = os.path.join(\n",
    "    os.path.dirname(os.getcwd()), # src directory\n",
    "    'move/ultima/build/ultima/bytecode_modules/Message.mv'\n",
    ")\n",
    "with open(abs_path, 'rb') as f:\n",
    "    module_hex = f.read().hex()\n",
    "module_hex[0:10] + '...' + module_hex[-10:]"
   ]
  },
  {
   "cell_type": "code",
   "execution_count": 8,
   "id": "aeb128cb",
   "metadata": {},
   "outputs": [
    {
     "data": {
      "text/plain": [
       "'0xc21e831361b46a107fcc909117bc1bf203180d08cde8508dd98ef9802cc7f4cf'"
      ]
     },
     "execution_count": 8,
     "metadata": {},
     "output_type": "execute_result"
    }
   ],
   "source": [
    "# Upload to Art's Address\n",
    "tx_hash = client.publish_module(art, module_hex)\n",
    "client.wait_for_tx(tx_hash, 30)\n",
    "tx_hash"
   ]
  },
  {
   "cell_type": "code",
   "execution_count": 9,
   "id": "65b4eea0",
   "metadata": {},
   "outputs": [
    {
     "data": {
      "text/plain": [
       "[{'type': '0x1::GUID::Generator', 'data': {'counter': '2'}},\n",
       " {'type': '0x1::Account::Account',\n",
       "  'data': {'authentication_key': '0xf5e60e8206deff83ec7ca686a00245fa13ac8a52d43f14d0034f46e10ef5c937',\n",
       "   'self_address': '0xf5e60e8206deff83ec7ca686a00245fa13ac8a52d43f14d0034f46e10ef5c937',\n",
       "   'sequence_number': '1'}},\n",
       " {'type': '0x1::TestCoin::Balance', 'data': {'coin': {'value': '19991'}}},\n",
       " {'type': '0x1::TestCoin::TransferEvents',\n",
       "  'data': {'received_events': {'counter': '0',\n",
       "    'guid': {'guid': {'id': {'addr': '0xf5e60e8206deff83ec7ca686a00245fa13ac8a52d43f14d0034f46e10ef5c937',\n",
       "       'creation_num': '1'}},\n",
       "     'len_bytes': 40}},\n",
       "   'sent_events': {'counter': '0',\n",
       "    'guid': {'guid': {'id': {'addr': '0xf5e60e8206deff83ec7ca686a00245fa13ac8a52d43f14d0034f46e10ef5c937',\n",
       "       'creation_num': '0'}},\n",
       "     'len_bytes': 40}}}}]"
      ]
     },
     "execution_count": 9,
     "metadata": {},
     "output_type": "execute_result"
    }
   ],
   "source": [
    "# MessageHolder not yet intialized\n",
    "client.account_resources(art.address())"
   ]
  },
  {
   "cell_type": "code",
   "execution_count": 10,
   "id": "ee479dcf",
   "metadata": {},
   "outputs": [
    {
     "data": {
      "text/plain": [
       "'None'"
      ]
     },
     "execution_count": 10,
     "metadata": {},
     "output_type": "execute_result"
    }
   ],
   "source": [
    "# Empty message\n",
    "str(client.get_message(art.address(), art.address()))"
   ]
  },
  {
   "cell_type": "markdown",
   "id": "4d4fb4a8",
   "metadata": {},
   "source": [
    "# Set message"
   ]
  },
  {
   "cell_type": "code",
   "execution_count": 11,
   "id": "1f06b578",
   "metadata": {},
   "outputs": [
    {
     "data": {
      "text/plain": [
       "'0xc21e831361b46a107fcc909117bc1bf203180d08cde8508dd98ef9802cc7f4cf'"
      ]
     },
     "execution_count": 11,
     "metadata": {},
     "output_type": "execute_result"
    }
   ],
   "source": [
    "tx = client.set_message(art.address(), art, 'Hello World')\n",
    "client.wait_for_tx(tx_hash, 30)\n",
    "tx_hash"
   ]
  },
  {
   "cell_type": "code",
   "execution_count": 12,
   "id": "b1bda90d",
   "metadata": {},
   "outputs": [
    {
     "data": {
      "text/plain": [
       "'Hello World'"
      ]
     },
     "execution_count": 12,
     "metadata": {},
     "output_type": "execute_result"
    }
   ],
   "source": [
    "# Message now set\n",
    "client.get_message(art.address(), art.address())"
   ]
  },
  {
   "cell_type": "code",
   "execution_count": 13,
   "id": "ad0458c8",
   "metadata": {},
   "outputs": [
    {
     "data": {
      "text/plain": [
       "[{'type': '0x1::GUID::Generator', 'data': {'counter': '3'}},\n",
       " {'type': '0x1::Account::Account',\n",
       "  'data': {'authentication_key': '0xf5e60e8206deff83ec7ca686a00245fa13ac8a52d43f14d0034f46e10ef5c937',\n",
       "   'self_address': '0xf5e60e8206deff83ec7ca686a00245fa13ac8a52d43f14d0034f46e10ef5c937',\n",
       "   'sequence_number': '2'}},\n",
       " {'type': '0x1::TestCoin::Balance', 'data': {'coin': {'value': '19841'}}},\n",
       " {'type': '0x1::TestCoin::TransferEvents',\n",
       "  'data': {'received_events': {'counter': '0',\n",
       "    'guid': {'guid': {'id': {'addr': '0xf5e60e8206deff83ec7ca686a00245fa13ac8a52d43f14d0034f46e10ef5c937',\n",
       "       'creation_num': '1'}},\n",
       "     'len_bytes': 40}},\n",
       "   'sent_events': {'counter': '0',\n",
       "    'guid': {'guid': {'id': {'addr': '0xf5e60e8206deff83ec7ca686a00245fa13ac8a52d43f14d0034f46e10ef5c937',\n",
       "       'creation_num': '0'}},\n",
       "     'len_bytes': 40}}}},\n",
       " {'type': '0xf5e60e8206deff83ec7ca686a00245fa13ac8a52d43f14d0034f46e10ef5c937::Message::MessageHolder',\n",
       "  'data': {'message': 'Hello World',\n",
       "   'message_change_events': {'counter': '0',\n",
       "    'guid': {'guid': {'id': {'addr': '0xf5e60e8206deff83ec7ca686a00245fa13ac8a52d43f14d0034f46e10ef5c937',\n",
       "       'creation_num': '2'}},\n",
       "     'len_bytes': 40}}}}]"
      ]
     },
     "execution_count": 13,
     "metadata": {},
     "output_type": "execute_result"
    }
   ],
   "source": [
    "# MessageHolder now intialized\n",
    "client.account_resources(art.address())"
   ]
  }
 ],
 "metadata": {
  "kernelspec": {
   "display_name": "Python 3 (ipykernel)",
   "language": "python",
   "name": "python3"
  },
  "language_info": {
   "codemirror_mode": {
    "name": "ipython",
    "version": 3
   },
   "file_extension": ".py",
   "mimetype": "text/x-python",
   "name": "python",
   "nbconvert_exporter": "python",
   "pygments_lexer": "ipython3",
   "version": "3.9.12"
  },
  "toc": {
   "base_numbering": 1,
   "nav_menu": {},
   "number_sections": true,
   "sideBar": true,
   "skip_h1_title": false,
   "title_cell": "Table of Contents",
   "title_sidebar": "Contents",
   "toc_cell": false,
   "toc_position": {},
   "toc_section_display": true,
   "toc_window_display": false
  }
 },
 "nbformat": 4,
 "nbformat_minor": 5
}
