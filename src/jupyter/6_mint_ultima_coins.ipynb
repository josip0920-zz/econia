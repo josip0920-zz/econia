{
 "cells": [
  {
   "cell_type": "markdown",
   "id": "bdd58dcb",
   "metadata": {},
   "source": [
    "# Initialization"
   ]
  },
  {
   "cell_type": "code",
   "execution_count": 1,
   "id": "fb80703b",
   "metadata": {},
   "outputs": [],
   "source": [
    "import random\n",
    "\n",
    "from ultima.account import Account\n",
    "from ultima.defs import networks\n",
    "from ultima.rest import (\n",
    "    hex_leader,\n",
    "    UltimaClient\n",
    ")"
   ]
  },
  {
   "cell_type": "code",
   "execution_count": 2,
   "id": "52e8b07d",
   "metadata": {},
   "outputs": [
    {
     "name": "stdout",
     "output_type": "stream",
     "text": [
      "Art: 0x070333c831d985aef5bff8d7aac38193d19fb8ceee135d9f22ad623613e153d0\n",
      "Ultima: 0x264bfab8b0011957a49c893e1ab02476db1aba9ee0a3b8088271fb4a42100724\n"
     ]
    }
   ],
   "source": [
    "random.seed('publish')\n",
    "art = Account(random.randbytes(32))\n",
    "ultima = Account(path='../../.secrets/ultima.key')\n",
    "print(f'Art: {hex_leader(art.address())}')\n",
    "# Should match Move.toml\n",
    "print(f'Ultima: {hex_leader(ultima.address())}')"
   ]
  },
  {
   "cell_type": "code",
   "execution_count": 3,
   "id": "c052e54a",
   "metadata": {},
   "outputs": [],
   "source": [
    "client = UltimaClient(networks.devnet)"
   ]
  },
  {
   "cell_type": "code",
   "execution_count": 4,
   "id": "0cbfd386",
   "metadata": {},
   "outputs": [],
   "source": [
    "# Fund both with TestCoin to cover tx fees\n",
    "_ = client.mint_testcoin(art.address(), 1_000_000)\n",
    "_ = client.mint_testcoin(ultima.address(), 1_000_000)"
   ]
  },
  {
   "cell_type": "code",
   "execution_count": 5,
   "id": "65b4ba8e",
   "metadata": {},
   "outputs": [
    {
     "name": "stdout",
     "output_type": "stream",
     "text": [
      "Art balance: 20000\n",
      "Ultima balance: 79923\n"
     ]
    }
   ],
   "source": [
    "print(f'Art balance: {client.testcoin_balance(art.address())}')\n",
    "print(f'Ultima balance: {client.testcoin_balance(ultima.address())}')"
   ]
  },
  {
   "cell_type": "markdown",
   "id": "caad50b7",
   "metadata": {},
   "source": [
    "# Publish and airdrop"
   ]
  },
  {
   "cell_type": "code",
   "execution_count": 6,
   "id": "fdcb8a39",
   "metadata": {},
   "outputs": [],
   "source": [
    "contract_address = ultima.address()\n",
    "airdrop_authority = ultima"
   ]
  },
  {
   "cell_type": "code",
   "execution_count": 7,
   "id": "39187d1f",
   "metadata": {},
   "outputs": [
    {
     "data": {
      "text/plain": [
       "{'APT': None, 'USD': None}"
      ]
     },
     "execution_count": 7,
     "metadata": {},
     "output_type": "execute_result"
    }
   ],
   "source": [
    "# Art's account balances pre-publish\n",
    "client.account_ultima_coin_balances(\n",
    "    art.address(),\n",
    "    contract_address\n",
    ")"
   ]
  },
  {
   "cell_type": "code",
   "execution_count": 8,
   "id": "e26edb74",
   "metadata": {},
   "outputs": [],
   "source": [
    "# Publish empty balance\n",
    "_ = client.publish_ultima_balances(art, contract_address)"
   ]
  },
  {
   "cell_type": "code",
   "execution_count": 9,
   "id": "519c7713",
   "metadata": {},
   "outputs": [
    {
     "data": {
      "text/plain": [
       "{'APT': 0, 'USD': 0}"
      ]
     },
     "execution_count": 9,
     "metadata": {},
     "output_type": "execute_result"
    }
   ],
   "source": [
    "# Art's post-publish balance went from `None` to 0\n",
    "client.account_ultima_coin_balances(\n",
    "    art.address(),\n",
    "    contract_address\n",
    ")"
   ]
  },
  {
   "cell_type": "code",
   "execution_count": 10,
   "id": "9bbd807b",
   "metadata": {},
   "outputs": [],
   "source": [
    "# Mint APT and USD, re-check balances\n",
    "_ = client.airdrop_ultima_coins(\n",
    "    airdrop_authority,\n",
    "    art.address(),\n",
    "    123,\n",
    "    456\n",
    ")"
   ]
  },
  {
   "cell_type": "code",
   "execution_count": 11,
   "id": "a9fed43b",
   "metadata": {},
   "outputs": [
    {
     "data": {
      "text/plain": [
       "{'APT': 123, 'USD': 456}"
      ]
     },
     "execution_count": 11,
     "metadata": {},
     "output_type": "execute_result"
    }
   ],
   "source": [
    "# Post-aidrop balance\n",
    "client.account_ultima_coin_balances(\n",
    "    art.address(),\n",
    "    contract_address\n",
    ")"
   ]
  }
 ],
 "metadata": {
  "kernelspec": {
   "display_name": "Python 3 (ipykernel)",
   "language": "python",
   "name": "python3"
  },
  "language_info": {
   "codemirror_mode": {
    "name": "ipython",
    "version": 3
   },
   "file_extension": ".py",
   "mimetype": "text/x-python",
   "name": "python",
   "nbconvert_exporter": "python",
   "pygments_lexer": "ipython3",
   "version": "3.9.12"
  },
  "toc": {
   "base_numbering": 1,
   "nav_menu": {},
   "number_sections": true,
   "sideBar": true,
   "skip_h1_title": false,
   "title_cell": "Table of Contents",
   "title_sidebar": "Contents",
   "toc_cell": false,
   "toc_position": {},
   "toc_section_display": true,
   "toc_window_display": false
  }
 },
 "nbformat": 4,
 "nbformat_minor": 5
}
