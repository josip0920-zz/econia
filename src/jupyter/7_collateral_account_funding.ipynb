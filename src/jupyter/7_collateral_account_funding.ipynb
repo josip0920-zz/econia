{
 "cells": [
  {
   "cell_type": "markdown",
   "id": "ebab4ba6",
   "metadata": {},
   "source": [
    "# Initialization"
   ]
  },
  {
   "cell_type": "code",
   "execution_count": 1,
   "id": "65b9723b",
   "metadata": {},
   "outputs": [],
   "source": [
    "import random\n",
    "\n",
    "from ultima.account import Account\n",
    "from ultima.rest import UltimaClient"
   ]
  },
  {
   "cell_type": "code",
   "execution_count": 2,
   "id": "20fdc7a7",
   "metadata": {},
   "outputs": [],
   "source": [
    "client = UltimaClient()\n",
    "art = Account()\n",
    "ultima = Account(path='../../.secrets/f112ce1fb887b85dfef24068aff97749ad148989bd1a2ff8950206586e72a272.key')"
   ]
  },
  {
   "cell_type": "code",
   "execution_count": 3,
   "id": "ee2bc578",
   "metadata": {},
   "outputs": [],
   "source": [
    "# Fund both with TestCoin to cover tx fees\n",
    "_ = client.mint_testcoin(art.address(), 1_000_000)\n",
    "_ = client.mint_testcoin(ultima.address(), 1_000_000)"
   ]
  },
  {
   "cell_type": "code",
   "execution_count": 4,
   "id": "ca811607",
   "metadata": {},
   "outputs": [
    {
     "data": {
      "text/plain": [
       "20000"
      ]
     },
     "execution_count": 4,
     "metadata": {},
     "output_type": "execute_result"
    }
   ],
   "source": [
    "client.testcoin_balance(art.address())"
   ]
  },
  {
   "cell_type": "code",
   "execution_count": 5,
   "id": "e9fb89db",
   "metadata": {},
   "outputs": [
    {
     "data": {
      "text/plain": [
       "319484"
      ]
     },
     "execution_count": 5,
     "metadata": {},
     "output_type": "execute_result"
    }
   ],
   "source": [
    "client.testcoin_balance(ultima.address())"
   ]
  },
  {
   "cell_type": "markdown",
   "id": "707821e5",
   "metadata": {},
   "source": [
    "# Account funding "
   ]
  },
  {
   "cell_type": "code",
   "execution_count": 6,
   "id": "f36132b3",
   "metadata": {},
   "outputs": [
    {
     "data": {
      "text/plain": [
       "{'APT': '10', 'USD': '1200'}"
      ]
     },
     "execution_count": 6,
     "metadata": {},
     "output_type": "execute_result"
    }
   ],
   "source": [
    "# Publish regular balance for coins\n",
    "_ = client.publish_ultima_balances(art, ultima.address())\n",
    "# Mint APT and USD\n",
    "_ = client.airdrop_ultima_coins(ultima, art.address(), 10, 1200)\n",
    "# Check post-aidrop balance in regular account\n",
    "client.account_ultima_coin_balances(art.address(), ultima.address())"
   ]
  },
  {
   "cell_type": "code",
   "execution_count": 7,
   "id": "53abf4d4",
   "metadata": {},
   "outputs": [
    {
     "data": {
      "text/plain": [
       "{'APT': None, 'USD': None}"
      ]
     },
     "execution_count": 7,
     "metadata": {},
     "output_type": "execute_result"
    }
   ],
   "source": [
    "# Before initializing collateral account\n",
    "client.collateral_balances(art.address(), ultima.address())"
   ]
  },
  {
   "cell_type": "code",
   "execution_count": 8,
   "id": "81b77ab9",
   "metadata": {},
   "outputs": [
    {
     "data": {
      "text/plain": [
       "{'APT': {'holdings': '0', 'available': '0'},\n",
       " 'USD': {'holdings': '0', 'available': '0'}}"
      ]
     },
     "execution_count": 8,
     "metadata": {},
     "output_type": "execute_result"
    }
   ],
   "source": [
    "# Initialize collateral account then check again\n",
    "_ = client.init_account(art, ultima.address())\n",
    "client.collateral_balances(art.address(), ultima.address())"
   ]
  },
  {
   "cell_type": "code",
   "execution_count": 9,
   "id": "f93d551d",
   "metadata": {},
   "outputs": [
    {
     "data": {
      "text/plain": [
       "{'APT': {'holdings': '4', 'available': '4'},\n",
       " 'USD': {'holdings': '700', 'available': '700'}}"
      ]
     },
     "execution_count": 9,
     "metadata": {},
     "output_type": "execute_result"
    }
   ],
   "source": [
    "# Deposit then check again\n",
    "client.deposit_coins(art, ultima.address(), 4, 700)\n",
    "client.collateral_balances(art.address(), ultima.address())"
   ]
  },
  {
   "cell_type": "code",
   "execution_count": 10,
   "id": "cb012328",
   "metadata": {},
   "outputs": [
    {
     "data": {
      "text/plain": [
       "{'APT': '6', 'USD': '500'}"
      ]
     },
     "execution_count": 10,
     "metadata": {},
     "output_type": "execute_result"
    }
   ],
   "source": [
    "# Compare with now-decremented regular account holdings\n",
    "client.account_ultima_coin_balances(art.address(), ultima.address())"
   ]
  },
  {
   "cell_type": "code",
   "execution_count": 11,
   "id": "ef38139c",
   "metadata": {},
   "outputs": [
    {
     "data": {
      "text/plain": [
       "{'APT': {'holdings': '3', 'available': '3'},\n",
       " 'USD': {'holdings': '500', 'available': '500'}}"
      ]
     },
     "execution_count": 11,
     "metadata": {},
     "output_type": "execute_result"
    }
   ],
   "source": [
    "# Withdraw to regular balance then check collateral balance again\n",
    "client.withdraw_coins(art, ultima.address(), 1, 200)\n",
    "client.collateral_balances(art.address(), ultima.address())"
   ]
  },
  {
   "cell_type": "code",
   "execution_count": 12,
   "id": "74026375",
   "metadata": {},
   "outputs": [
    {
     "data": {
      "text/plain": [
       "{'APT': '7', 'USD': '700'}"
      ]
     },
     "execution_count": 12,
     "metadata": {},
     "output_type": "execute_result"
    }
   ],
   "source": [
    "# Compare versus recently-incrmented regular account balance\n",
    "client.account_ultima_coin_balances(art.address(), ultima.address())"
   ]
  },
  {
   "cell_type": "code",
   "execution_count": 13,
   "id": "40f0c827",
   "metadata": {},
   "outputs": [
    {
     "data": {
      "text/plain": [
       "{'APT': {'holdings': '0', 'available': '0'},\n",
       " 'USD': {'holdings': '0', 'available': '0'}}"
      ]
     },
     "execution_count": 13,
     "metadata": {},
     "output_type": "execute_result"
    }
   ],
   "source": [
    "# Sweep collateral accounts and re-check collateral balance\n",
    "client.withdraw_coins(art, ultima.address(), 3, 500)\n",
    "client.collateral_balances(art.address(), ultima.address())"
   ]
  },
  {
   "cell_type": "code",
   "execution_count": 14,
   "id": "ae4357a1",
   "metadata": {},
   "outputs": [
    {
     "data": {
      "text/plain": [
       "{'APT': '10', 'USD': '1200'}"
      ]
     },
     "execution_count": 14,
     "metadata": {},
     "output_type": "execute_result"
    }
   ],
   "source": [
    "# All is now back in regular account\n",
    "client.account_ultima_coin_balances(art.address(), ultima.address())"
   ]
  }
 ],
 "metadata": {
  "kernelspec": {
   "display_name": "Python 3 (ipykernel)",
   "language": "python",
   "name": "python3"
  },
  "language_info": {
   "codemirror_mode": {
    "name": "ipython",
    "version": 3
   },
   "file_extension": ".py",
   "mimetype": "text/x-python",
   "name": "python",
   "nbconvert_exporter": "python",
   "pygments_lexer": "ipython3",
   "version": "3.9.12"
  },
  "toc": {
   "base_numbering": 1,
   "nav_menu": {},
   "number_sections": true,
   "sideBar": true,
   "skip_h1_title": false,
   "title_cell": "Table of Contents",
   "title_sidebar": "Contents",
   "toc_cell": false,
   "toc_position": {},
   "toc_section_display": true,
   "toc_window_display": false
  }
 },
 "nbformat": 4,
 "nbformat_minor": 5
}
