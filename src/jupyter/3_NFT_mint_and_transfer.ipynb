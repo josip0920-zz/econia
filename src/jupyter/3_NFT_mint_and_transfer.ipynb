{
 "cells": [
  {
   "cell_type": "markdown",
   "id": "e24f975f",
   "metadata": {},
   "source": [
    "From Aptos official \"Your first NFT\" tutorial"
   ]
  },
  {
   "cell_type": "code",
   "execution_count": 1,
   "id": "b6b04405",
   "metadata": {},
   "outputs": [],
   "source": [
    "import pprint\n",
    "import time\n",
    "\n",
    "from econia.chain.account import Account\n",
    "from econia.chain.connect import (\n",
    "    TokenClient, FaucetClient, network_urls\n",
    ")"
   ]
  },
  {
   "cell_type": "code",
   "execution_count": 2,
   "id": "67ed5bbd",
   "metadata": {},
   "outputs": [],
   "source": [
    "pp = pprint.PrettyPrinter(compact=True)"
   ]
  },
  {
   "cell_type": "markdown",
   "id": "784418a7",
   "metadata": {},
   "source": [
    "# Setup"
   ]
  },
  {
   "cell_type": "code",
   "execution_count": 3,
   "id": "be6892ae",
   "metadata": {},
   "outputs": [],
   "source": [
    "# Randomly generated\n",
    "art = Account()\n",
    "bud = Account()"
   ]
  },
  {
   "cell_type": "code",
   "execution_count": 4,
   "id": "16740397",
   "metadata": {},
   "outputs": [],
   "source": [
    "client = TokenClient(network_urls.devnet)\n",
    "faucet = FaucetClient(network_urls.devnet_faucet, client)"
   ]
  },
  {
   "cell_type": "code",
   "execution_count": 5,
   "id": "cf0956cc",
   "metadata": {},
   "outputs": [
    {
     "name": "stdout",
     "output_type": "stream",
     "text": [
      "Art's address: 90be7e3b2ff9a591305c2f0926adaa3585a2e11c000893037ee321141323317f\n",
      "Bud's address: 55db2c6b3e1edd2773854867823af5d94f97b4356d77c40f8bc673e0fd28768a\n"
     ]
    }
   ],
   "source": [
    "print(f\"Art's address: {art.address()}\")\n",
    "print(f\"Bud's address: {bud.address()}\")"
   ]
  },
  {
   "cell_type": "code",
   "execution_count": 6,
   "id": "4b19ef25",
   "metadata": {},
   "outputs": [],
   "source": [
    "faucet.fund_account(art.address(), 10_000_000)\n",
    "faucet.fund_account(bud.address(), 10_000_000)"
   ]
  },
  {
   "cell_type": "code",
   "execution_count": 7,
   "id": "88a7f9ac",
   "metadata": {},
   "outputs": [],
   "source": [
    "# If running script automatically, insert brief delay\n",
    "time.sleep(1)"
   ]
  },
  {
   "cell_type": "code",
   "execution_count": 8,
   "id": "04aa30f3",
   "metadata": {},
   "outputs": [
    {
     "name": "stdout",
     "output_type": "stream",
     "text": [
      "Art's balance: 20000\n",
      "Bud's balance: 20000\n"
     ]
    }
   ],
   "source": [
    "print(f\"Art's balance: {client.testcoin_balance(art.address())}\")\n",
    "print(f\"Bud's balance: {client.testcoin_balance(art.address())}\")"
   ]
  },
  {
   "cell_type": "markdown",
   "id": "c4eb8bfb",
   "metadata": {},
   "source": [
    "# Creating NFT"
   ]
  },
  {
   "cell_type": "code",
   "execution_count": 9,
   "id": "220daab1",
   "metadata": {},
   "outputs": [],
   "source": [
    "# Creating collection and token\n",
    "client.create_collection(\n",
    "    art,\n",
    "    \"Art's art\",\n",
    "    \"Art's first collection\",\n",
    "    'https://aptos.dev'\n",
    ")"
   ]
  },
  {
   "cell_type": "code",
   "execution_count": 10,
   "id": "54d95538",
   "metadata": {},
   "outputs": [],
   "source": [
    "# If running script automatically, insert brief delay\n",
    "time.sleep(1)"
   ]
  },
  {
   "cell_type": "code",
   "execution_count": 11,
   "id": "2d71e871",
   "metadata": {},
   "outputs": [],
   "source": [
    "client.create_token(\n",
    "    art,\n",
    "    \"Art's first collection\",\n",
    "    \"Art's simple token\",\n",
    "    \"Art's first token\",\n",
    "    1,\n",
    "    'https://aptos.dev/img/nyan.jpeg'\n",
    ")"
   ]
  },
  {
   "cell_type": "code",
   "execution_count": 12,
   "id": "edc7625e",
   "metadata": {},
   "outputs": [],
   "source": [
    "# If running script automatically, insert brief delay\"\n",
    "time.sleep(1)"
   ]
  },
  {
   "cell_type": "code",
   "execution_count": 13,
   "id": "d837f565",
   "metadata": {},
   "outputs": [],
   "source": [
    "# Querying collection and token\n",
    "token_id = client.get_token_id(\n",
    "    art.address(),\n",
    "    \"Art's first collection\",\n",
    "    \"Art's first token\"\n",
    ")"
   ]
  },
  {
   "cell_type": "code",
   "execution_count": 14,
   "id": "baf8d2ea",
   "metadata": {},
   "outputs": [
    {
     "name": "stdout",
     "output_type": "stream",
     "text": [
      "Token id: 2\n"
     ]
    }
   ],
   "source": [
    "print(f'Token id: {token_id}')"
   ]
  },
  {
   "cell_type": "code",
   "execution_count": 15,
   "id": "ee44090f",
   "metadata": {},
   "outputs": [
    {
     "name": "stdout",
     "output_type": "stream",
     "text": [
      "[{'key': \"Art's first collection\",\n",
      "  'value': {'claimed_tokens': {'data': [{'key': \"Art's first token\",\n",
      "                                         'value': '0x90be7e3b2ff9a591305c2f0926adaa3585a2e11c000893037ee321141323317f'}]},\n",
      "            'count': '0',\n",
      "            'description': \"Art's art\",\n",
      "            'maximum': {'vec': []},\n",
      "            'name': \"Art's first collection\",\n",
      "            'tokens': {'data': [{'key': \"Art's first token\",\n",
      "                                 'value': {'description': \"Art's simple token\",\n",
      "                                           'id': {'addr': '0x90be7e3b2ff9a591305c2f0926adaa3585a2e11c000893037ee321141323317f',\n",
      "                                                  'creation_num': '2'},\n",
      "                                           'name': \"Art's first token\",\n",
      "                                           'supply': '1',\n",
      "                                           'uri': 'https://aptos.dev/img/nyan.jpeg'}}]},\n",
      "            'uri': 'https://aptos.dev'}}]\n"
     ]
    }
   ],
   "source": [
    "# Art's collection\n",
    "resources = client.account_resources(art.address())\n",
    "for resource in resources:\n",
    "    if resource['type'] == '0x1::Token::Collections':\n",
    "        resource = \\\n",
    "            pp.pprint(resource['data']['collections']['data'])\n",
    "        break\n",
    "resource"
   ]
  },
  {
   "cell_type": "code",
   "execution_count": 16,
   "id": "35c5807b",
   "metadata": {},
   "outputs": [
    {
     "name": "stdout",
     "output_type": "stream",
     "text": [
      "See https://aptos-explorer.netlify.app/account/90be7e3b2ff9a591305c2f0926adaa3585a2e11c000893037ee321141323317f\n"
     ]
    }
   ],
   "source": [
    "print(\n",
    "    f'See https://aptos-explorer.netlify.app/'\n",
    "    f'account/{art.address()}'\n",
    ")"
   ]
  },
  {
   "cell_type": "markdown",
   "id": "2f4ffb90",
   "metadata": {},
   "source": [
    "# Transferring NFT"
   ]
  },
  {
   "cell_type": "code",
   "execution_count": 17,
   "id": "3ff5b269",
   "metadata": {},
   "outputs": [],
   "source": [
    "# Art offers to Bud\n",
    "client.offer_token(art, bud.address(), art.address(), token_id, 1)"
   ]
  },
  {
   "cell_type": "code",
   "execution_count": 18,
   "id": "f37890a5",
   "metadata": {},
   "outputs": [],
   "source": [
    "# Bud accepts\n",
    "client.claim_token(bud, art.address(), art.address(), token_id)"
   ]
  },
  {
   "cell_type": "code",
   "execution_count": 19,
   "id": "d0ea8164",
   "metadata": {},
   "outputs": [
    {
     "data": {
      "text/plain": [
       "{'type': '0x1::Token::Gallery',\n",
       " 'data': {'gallery': {'data': [{'key': {'addr': '0x90be7e3b2ff9a591305c2f0926adaa3585a2e11c000893037ee321141323317f',\n",
       "      'creation_num': '2'},\n",
       "     'value': {'balance': '1',\n",
       "      'collection': \"Art's first collection\",\n",
       "      'id': {'addr': '0x90be7e3b2ff9a591305c2f0926adaa3585a2e11c000893037ee321141323317f',\n",
       "       'creation_num': '2'},\n",
       "      'name': \"Art's first token\"}}]}}}"
      ]
     },
     "execution_count": 19,
     "metadata": {},
     "output_type": "execute_result"
    }
   ],
   "source": [
    "# Bud's resources\n",
    "resources = client.account_resources(bud.address())\n",
    "for resource in resources:\n",
    "    if resource['type'] == '0x1::Token::Gallery':\n",
    "        break\n",
    "resource"
   ]
  },
  {
   "cell_type": "code",
   "execution_count": 20,
   "id": "09ed6b3b",
   "metadata": {},
   "outputs": [
    {
     "name": "stdout",
     "output_type": "stream",
     "text": [
      "See https://aptos-explorer.netlify.app/account/55db2c6b3e1edd2773854867823af5d94f97b4356d77c40f8bc673e0fd28768a\n"
     ]
    }
   ],
   "source": [
    "print(\n",
    "    f'See https://aptos-explorer.netlify.app/'\n",
    "    f'account/{bud.address()}'\n",
    ")"
   ]
  }
 ],
 "metadata": {
  "kernelspec": {
   "display_name": "Python 3 (ipykernel)",
   "language": "python",
   "name": "python3"
  },
  "language_info": {
   "codemirror_mode": {
    "name": "ipython",
    "version": 3
   },
   "file_extension": ".py",
   "mimetype": "text/x-python",
   "name": "python",
   "nbconvert_exporter": "python",
   "pygments_lexer": "ipython3",
   "version": "3.9.12"
  },
  "toc": {
   "base_numbering": 1,
   "nav_menu": {},
   "number_sections": true,
   "sideBar": true,
   "skip_h1_title": false,
   "title_cell": "Table of Contents",
   "title_sidebar": "Contents",
   "toc_cell": false,
   "toc_position": {},
   "toc_section_display": true,
   "toc_window_display": false
  }
 },
 "nbformat": 4,
 "nbformat_minor": 5
}
