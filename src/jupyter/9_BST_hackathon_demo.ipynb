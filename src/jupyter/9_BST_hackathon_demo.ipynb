{
 "cells": [
  {
   "cell_type": "markdown",
   "id": "6291f5f1",
   "metadata": {},
   "source": [
    "# Initialization "
   ]
  },
  {
   "cell_type": "code",
   "execution_count": 1,
   "id": "f5dd5b2f",
   "metadata": {},
   "outputs": [],
   "source": [
    "import time\n",
    "from ultima.account import Account\n",
    "from ultima.rest import AlnokiClient"
   ]
  },
  {
   "cell_type": "markdown",
   "id": "1ee56222",
   "metadata": {},
   "source": [
    "Initialize accounts"
   ]
  },
  {
   "cell_type": "code",
   "execution_count": 2,
   "id": "9774611f",
   "metadata": {},
   "outputs": [],
   "source": [
    "client = AlnokiClient()\n",
    "alnoki = Account()\n",
    "ultima = Account(dev_nb=True) # <-- for dev"
   ]
  },
  {
   "cell_type": "markdown",
   "id": "12b70107",
   "metadata": {},
   "source": [
    "Aliases for shorter commands"
   ]
  },
  {
   "cell_type": "code",
   "execution_count": 3,
   "id": "4608c197",
   "metadata": {},
   "outputs": [],
   "source": [
    "e_url = client.tx_vn_url_print"
   ]
  },
  {
   "cell_type": "markdown",
   "id": "8d850dc2",
   "metadata": {},
   "source": [
    "Fund all with TestCoin to cover tx fees"
   ]
  },
  {
   "cell_type": "code",
   "execution_count": 4,
   "id": "fd2bd0fa",
   "metadata": {},
   "outputs": [
    {
     "name": "stdout",
     "output_type": "stream",
     "text": [
      "https://aptos-explorer.netlify.app/txn/506090\n"
     ]
    }
   ],
   "source": [
    "# Alnoki\n",
    "e_url(client.mint_testcoin(alnoki.address()))"
   ]
  },
  {
   "cell_type": "code",
   "execution_count": 5,
   "id": "37825e84",
   "metadata": {},
   "outputs": [
    {
     "name": "stdout",
     "output_type": "stream",
     "text": [
      "https://aptos-explorer.netlify.app/txn/506094\n"
     ]
    }
   ],
   "source": [
    "# Contract address\n",
    "e_url(client.mint_testcoin(ultima.address()))"
   ]
  },
  {
   "cell_type": "markdown",
   "id": "aad5ee17",
   "metadata": {},
   "source": [
    "# Publish AlnokiBST resource"
   ]
  },
  {
   "cell_type": "markdown",
   "id": "cfa72356",
   "metadata": {},
   "source": [
    "Publish an `AlnokiBST` resource"
   ]
  },
  {
   "cell_type": "code",
   "execution_count": 6,
   "id": "df9675ff",
   "metadata": {},
   "outputs": [
    {
     "name": "stdout",
     "output_type": "stream",
     "text": [
      "https://aptos-explorer.netlify.app/txn/506098\n"
     ]
    }
   ],
   "source": [
    "client.alnoki_publish(alnoki, ultima.address())"
   ]
  },
  {
   "cell_type": "markdown",
   "id": "47394dc1",
   "metadata": {},
   "source": [
    "See the data within:\n",
    "    * `r`, root, is set to `U64_MAX`, as a NULL flag\n",
    "    * `t`, the tree, is empty"
   ]
  },
  {
   "cell_type": "code",
   "execution_count": 7,
   "id": "0e4387a3",
   "metadata": {},
   "outputs": [
    {
     "data": {
      "text/plain": [
       "{'r': '18446744073709551615', 't': []}"
      ]
     },
     "execution_count": 7,
     "metadata": {},
     "output_type": "execute_result"
    }
   ],
   "source": [
    "client.bst_data(alnoki.address())"
   ]
  },
  {
   "cell_type": "markdown",
   "id": "326e0f66",
   "metadata": {},
   "source": [
    "# Insert key-value pairs"
   ]
  },
  {
   "cell_type": "markdown",
   "id": "d6536540",
   "metadata": {},
   "source": [
    "More aliases for brevity"
   ]
  },
  {
   "cell_type": "code",
   "execution_count": 8,
   "id": "54890683",
   "metadata": {},
   "outputs": [],
   "source": [
    "a_i = client.alnoki_insert\n",
    "u_a = ultima.address()"
   ]
  },
  {
   "cell_type": "code",
   "execution_count": 9,
   "id": "e8be9f93",
   "metadata": {},
   "outputs": [
    {
     "name": "stdout",
     "output_type": "stream",
     "text": [
      "https://aptos-explorer.netlify.app/txn/506102\n"
     ]
    }
   ],
   "source": [
    "a_i(alnoki, u_a, 25, 100)"
   ]
  },
  {
   "cell_type": "code",
   "execution_count": 10,
   "id": "ac4d9c8b",
   "metadata": {},
   "outputs": [
    {
     "data": {
      "text/plain": [
       "{'r': '0',\n",
       " 't': [{'c': True,\n",
       "   'k': '25',\n",
       "   'l': '18446744073709551615',\n",
       "   'p': '18446744073709551615',\n",
       "   'r': '18446744073709551615',\n",
       "   'v': '100'}]}"
      ]
     },
     "execution_count": 10,
     "metadata": {},
     "output_type": "execute_result"
    }
   ],
   "source": [
    "client.bst_data(alnoki.address())"
   ]
  },
  {
   "cell_type": "code",
   "execution_count": null,
   "id": "5fd1799a",
   "metadata": {},
   "outputs": [],
   "source": [
    "a_i(alnoki, u_a, 123, 50000)"
   ]
  },
  {
   "cell_type": "code",
   "execution_count": null,
   "id": "81c08285",
   "metadata": {},
   "outputs": [],
   "source": [
    "a_i(alnoki, u_a, 2, 12345) # MIN"
   ]
  },
  {
   "cell_type": "code",
   "execution_count": null,
   "id": "c270f86a",
   "metadata": {},
   "outputs": [],
   "source": [
    "a_i(alnoki, u_a, 2000, 123689) # MAX"
   ]
  },
  {
   "cell_type": "code",
   "execution_count": null,
   "id": "413383bd",
   "metadata": {},
   "outputs": [],
   "source": [
    "a_i(alnoki, u_a, 342, 685)"
   ]
  },
  {
   "cell_type": "code",
   "execution_count": null,
   "id": "9192fd4b",
   "metadata": {},
   "outputs": [],
   "source": [
    "a_i(alnoki, u_a, 23, 89346)"
   ]
  }
 ],
 "metadata": {
  "kernelspec": {
   "display_name": "Python 3 (ipykernel)",
   "language": "python",
   "name": "python3"
  },
  "language_info": {
   "codemirror_mode": {
    "name": "ipython",
    "version": 3
   },
   "file_extension": ".py",
   "mimetype": "text/x-python",
   "name": "python",
   "nbconvert_exporter": "python",
   "pygments_lexer": "ipython3",
   "version": "3.9.12"
  },
  "toc": {
   "base_numbering": 1,
   "nav_menu": {},
   "number_sections": true,
   "sideBar": true,
   "skip_h1_title": false,
   "title_cell": "Table of Contents",
   "title_sidebar": "Contents",
   "toc_cell": false,
   "toc_position": {},
   "toc_section_display": true,
   "toc_window_display": false
  }
 },
 "nbformat": 4,
 "nbformat_minor": 5
}
