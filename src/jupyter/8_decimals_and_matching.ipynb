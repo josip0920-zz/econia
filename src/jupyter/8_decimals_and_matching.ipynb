{
 "cells": [
  {
   "cell_type": "markdown",
   "id": "1fba8898",
   "metadata": {},
   "source": [
    "# Initialization"
   ]
  },
  {
   "cell_type": "code",
   "execution_count": 1,
   "id": "0992e780",
   "metadata": {},
   "outputs": [],
   "source": [
    "import time\n",
    "from econia.account import Account\n",
    "from econia.rest import EconiaClient, APT, USD, Buy, Sell"
   ]
  },
  {
   "cell_type": "markdown",
   "id": "3ccc7f45",
   "metadata": {},
   "source": [
    "Initialize accounts"
   ]
  },
  {
   "cell_type": "code",
   "execution_count": 2,
   "id": "cbf70fb4",
   "metadata": {},
   "outputs": [],
   "source": [
    "client = EconiaClient()\n",
    "art = Account()\n",
    "bud = Account()\n",
    "econia = Account(dev_nb=True) # <-- for dev"
   ]
  },
  {
   "cell_type": "markdown",
   "id": "65877296",
   "metadata": {},
   "source": [
    "Use aliases for shorter commands"
   ]
  },
  {
   "cell_type": "code",
   "execution_count": 3,
   "id": "f8994bbe",
   "metadata": {},
   "outputs": [],
   "source": [
    "art_ad = art.address()\n",
    "bud_ad = bud.address()\n",
    "u_ad = econia.address()\n",
    "e_url = client.tx_vn_url_print\n",
    "airdrop = client.airdrop_econia_coins\n",
    "econia_balance = client.account_econia_coin_balances\n",
    "transfer = client.transfer_econia_coins\n",
    "deposit_econia = client.deposit_coins\n",
    "c_balance = client.collateral_balances\n",
    "w_u_coins = client.withdraw_coins"
   ]
  },
  {
   "cell_type": "markdown",
   "id": "2dc6641e",
   "metadata": {},
   "source": [
    "Fund all with TestCoin to cover tx fees"
   ]
  },
  {
   "cell_type": "code",
   "execution_count": 4,
   "id": "8dc99f3d",
   "metadata": {},
   "outputs": [
    {
     "name": "stdout",
     "output_type": "stream",
     "text": [
      "https://aptos-explorer.netlify.app/txn/159481\n"
     ]
    }
   ],
   "source": [
    "e_url(client.mint_testcoin(art_ad))"
   ]
  },
  {
   "cell_type": "code",
   "execution_count": 5,
   "id": "50516bfa",
   "metadata": {},
   "outputs": [
    {
     "name": "stdout",
     "output_type": "stream",
     "text": [
      "https://aptos-explorer.netlify.app/txn/159485\n"
     ]
    }
   ],
   "source": [
    "e_url(client.mint_testcoin(bud_ad))"
   ]
  },
  {
   "cell_type": "code",
   "execution_count": 6,
   "id": "1930953e",
   "metadata": {},
   "outputs": [
    {
     "name": "stdout",
     "output_type": "stream",
     "text": [
      "https://aptos-explorer.netlify.app/txn/159490\n"
     ]
    }
   ],
   "source": [
    "e_url(client.mint_testcoin(u_ad))"
   ]
  },
  {
   "cell_type": "markdown",
   "id": "b2c00544",
   "metadata": {},
   "source": [
    "# Airdrop and transfers"
   ]
  },
  {
   "cell_type": "markdown",
   "id": "a2d8423c",
   "metadata": {},
   "source": [
    "Publish Econia balance for Art"
   ]
  },
  {
   "cell_type": "code",
   "execution_count": 7,
   "id": "fa19124d",
   "metadata": {},
   "outputs": [
    {
     "name": "stdout",
     "output_type": "stream",
     "text": [
      "https://aptos-explorer.netlify.app/txn/159494\n"
     ]
    }
   ],
   "source": [
    "e_url(client.publish_econia_balances(art, u_ad))"
   ]
  },
  {
   "cell_type": "markdown",
   "id": "6acb9707",
   "metadata": {},
   "source": [
    "Airdrop to Art: 100.3 `APT`, and 20,000.5 `USD`"
   ]
  },
  {
   "cell_type": "code",
   "execution_count": 8,
   "id": "e8d70016",
   "metadata": {},
   "outputs": [
    {
     "name": "stdout",
     "output_type": "stream",
     "text": [
      "https://aptos-explorer.netlify.app/txn/159498\n"
     ]
    }
   ],
   "source": [
    "e_url(airdrop(econia, art_ad, apt='100.3', usd='20000.5'))"
   ]
  },
  {
   "cell_type": "markdown",
   "id": "abeec368",
   "metadata": {},
   "source": [
    "Art's Regular balance has updated"
   ]
  },
  {
   "cell_type": "code",
   "execution_count": 9,
   "id": "47bd9586",
   "metadata": {},
   "outputs": [
    {
     "data": {
      "text/plain": [
       "{'APT': Decimal('100.3'), 'USD': Decimal('20000.5')}"
      ]
     },
     "execution_count": 9,
     "metadata": {},
     "output_type": "execute_result"
    }
   ],
   "source": [
    "econia_balance(art_ad, u_ad)"
   ]
  },
  {
   "cell_type": "markdown",
   "id": "6036e8ef",
   "metadata": {},
   "source": [
    "Publish Econia balance for Bud"
   ]
  },
  {
   "cell_type": "code",
   "execution_count": 10,
   "id": "8af29751",
   "metadata": {},
   "outputs": [
    {
     "name": "stdout",
     "output_type": "stream",
     "text": [
      "https://aptos-explorer.netlify.app/txn/159502\n"
     ]
    }
   ],
   "source": [
    "e_url(client.publish_econia_balances(bud, u_ad))"
   ]
  },
  {
   "cell_type": "markdown",
   "id": "cb3d766a",
   "metadata": {},
   "source": [
    "Rather than airdropping, transfer 30.1 `APT` and 5,000.2 `USD` from Art to Bud"
   ]
  },
  {
   "cell_type": "code",
   "execution_count": 11,
   "id": "65a75ee4",
   "metadata": {},
   "outputs": [
    {
     "name": "stdout",
     "output_type": "stream",
     "text": [
      "https://aptos-explorer.netlify.app/txn/159506\n"
     ]
    }
   ],
   "source": [
    "e_url(transfer(art, bud_ad, u_ad, apt='30.1', usd='5000.2'))"
   ]
  },
  {
   "cell_type": "markdown",
   "id": "a36825ff",
   "metadata": {},
   "source": [
    "Bud's balance has gone up by 30.1 `APT` and 5000.2 `USD`"
   ]
  },
  {
   "cell_type": "code",
   "execution_count": 12,
   "id": "ef2b3a14",
   "metadata": {},
   "outputs": [
    {
     "data": {
      "text/plain": [
       "{'APT': Decimal('30.1'), 'USD': Decimal('5000.2')}"
      ]
     },
     "execution_count": 12,
     "metadata": {},
     "output_type": "execute_result"
    }
   ],
   "source": [
    "econia_balance(bud_ad, u_ad)"
   ]
  },
  {
   "cell_type": "markdown",
   "id": "ef151fd2",
   "metadata": {},
   "source": [
    "Art's balance has gone down by 30.1 `APT` and 5,000.2 `USD`, to 70.2 `APT` and 15,000.3 `USD`"
   ]
  },
  {
   "cell_type": "code",
   "execution_count": 13,
   "id": "a3fa5266",
   "metadata": {},
   "outputs": [
    {
     "data": {
      "text/plain": [
       "{'APT': Decimal('70.2'), 'USD': Decimal('15000.3')}"
      ]
     },
     "execution_count": 13,
     "metadata": {},
     "output_type": "execute_result"
    }
   ],
   "source": [
    "econia_balance(art_ad, u_ad)"
   ]
  },
  {
   "cell_type": "markdown",
   "id": "e1c6ca09",
   "metadata": {},
   "source": [
    "# Collateral account funding"
   ]
  },
  {
   "cell_type": "markdown",
   "id": "e80d146b",
   "metadata": {},
   "source": [
    "Initialize Art's collateral account"
   ]
  },
  {
   "cell_type": "code",
   "execution_count": 14,
   "id": "47a4d008",
   "metadata": {},
   "outputs": [
    {
     "name": "stdout",
     "output_type": "stream",
     "text": [
      "https://aptos-explorer.netlify.app/txn/159510\n"
     ]
    }
   ],
   "source": [
    "e_url(client.init_account(art, u_ad))"
   ]
  },
  {
   "cell_type": "markdown",
   "id": "01c70fd3",
   "metadata": {},
   "source": [
    "His collateral balances are at 0"
   ]
  },
  {
   "cell_type": "code",
   "execution_count": 15,
   "id": "44981904",
   "metadata": {},
   "outputs": [
    {
     "data": {
      "text/plain": [
       "{'APT': {'holdings': Decimal('0'), 'available': Decimal('0')},\n",
       " 'USD': {'holdings': Decimal('0'), 'available': Decimal('0')}}"
      ]
     },
     "execution_count": 15,
     "metadata": {},
     "output_type": "execute_result"
    }
   ],
   "source": [
    "c_balance(art_ad, u_ad)"
   ]
  },
  {
   "cell_type": "markdown",
   "id": "9d25cc45",
   "metadata": {},
   "source": [
    "Deposit 60.1 `APT` and 15,000.2 `USD` from Art's regular account to collateral"
   ]
  },
  {
   "cell_type": "code",
   "execution_count": 16,
   "id": "31402590",
   "metadata": {},
   "outputs": [
    {
     "name": "stdout",
     "output_type": "stream",
     "text": [
      "https://aptos-explorer.netlify.app/txn/159514\n"
     ]
    }
   ],
   "source": [
    "e_url(deposit_econia(art, u_ad, apt='60.1', usd='15000.2'))"
   ]
  },
  {
   "cell_type": "markdown",
   "id": "c6330f68",
   "metadata": {},
   "source": [
    "Art's collateral balance has gone up by 60.1 `APT` and 15,000.2 `USD`, same with available amount"
   ]
  },
  {
   "cell_type": "code",
   "execution_count": 17,
   "id": "921127b2",
   "metadata": {},
   "outputs": [
    {
     "data": {
      "text/plain": [
       "{'APT': {'holdings': Decimal('60.1'), 'available': Decimal('60.1')},\n",
       " 'USD': {'holdings': Decimal('15000.2'), 'available': Decimal('15000.2')}}"
      ]
     },
     "execution_count": 17,
     "metadata": {},
     "output_type": "execute_result"
    }
   ],
   "source": [
    "c_balance(art_ad, u_ad)"
   ]
  },
  {
   "cell_type": "markdown",
   "id": "3be329b6",
   "metadata": {},
   "source": [
    "Art's regular balance has gone down by 60.1 `APT` and 15,000.2 `USD` to 10.1 `APT` and 0.1 `USD`"
   ]
  },
  {
   "cell_type": "code",
   "execution_count": 18,
   "id": "9832ced7",
   "metadata": {},
   "outputs": [
    {
     "data": {
      "text/plain": [
       "{'APT': Decimal('10.1'), 'USD': Decimal('0.1')}"
      ]
     },
     "execution_count": 18,
     "metadata": {},
     "output_type": "execute_result"
    }
   ],
   "source": [
    "econia_balance(art_ad, u_ad)"
   ]
  },
  {
   "cell_type": "markdown",
   "id": "ddd4995d",
   "metadata": {},
   "source": [
    "Art withdraws 15 `APT` and 4,000 `USD` from collateral account"
   ]
  },
  {
   "cell_type": "code",
   "execution_count": 19,
   "id": "6489ed2a",
   "metadata": {},
   "outputs": [
    {
     "name": "stdout",
     "output_type": "stream",
     "text": [
      "https://aptos-explorer.netlify.app/txn/159519\n"
     ]
    }
   ],
   "source": [
    "e_url(w_u_coins(art, u_ad, apt='15', usd='4000'))"
   ]
  },
  {
   "cell_type": "markdown",
   "id": "16fe72ad",
   "metadata": {},
   "source": [
    "Art's regular balance has increased by 15 `APT` and 4,000 `USD` to 25.1 `APT` and 4000.1 `USD`"
   ]
  },
  {
   "cell_type": "code",
   "execution_count": 20,
   "id": "9f6c6987",
   "metadata": {},
   "outputs": [
    {
     "data": {
      "text/plain": [
       "{'APT': Decimal('25.1'), 'USD': Decimal('4000.1')}"
      ]
     },
     "execution_count": 20,
     "metadata": {},
     "output_type": "execute_result"
    }
   ],
   "source": [
    "econia_balance(art_ad, u_ad)"
   ]
  },
  {
   "cell_type": "markdown",
   "id": "09369300",
   "metadata": {},
   "source": [
    "Art's collateral balances have decreased by 15 `APT` and 4,000 `USD` to 45.1 `APT` and 11,000 `USD`"
   ]
  },
  {
   "cell_type": "code",
   "execution_count": 21,
   "id": "8f5d0432",
   "metadata": {},
   "outputs": [
    {
     "data": {
      "text/plain": [
       "{'APT': {'holdings': Decimal('45.1'), 'available': Decimal('45.1')},\n",
       " 'USD': {'holdings': Decimal('11000.2'), 'available': Decimal('11000.2')}}"
      ]
     },
     "execution_count": 21,
     "metadata": {},
     "output_type": "execute_result"
    }
   ],
   "source": [
    "c_balance(art_ad, u_ad)"
   ]
  },
  {
   "cell_type": "markdown",
   "id": "fe94b3d6",
   "metadata": {},
   "source": [
    "# Recording orders "
   ]
  },
  {
   "cell_type": "code",
   "execution_count": 22,
   "id": "df14fb87",
   "metadata": {},
   "outputs": [
    {
     "name": "stdout",
     "output_type": "stream",
     "text": [
      "https://aptos-explorer.netlify.app/txn/159523\n",
      "https://aptos-explorer.netlify.app/txn/159530\n",
      "https://aptos-explorer.netlify.app/txn/159536\n",
      "https://aptos-explorer.netlify.app/txn/159547\n",
      "https://aptos-explorer.netlify.app/txn/159557\n"
     ]
    }
   ],
   "source": [
    "# Record mock orders to Art's account\n",
    "r_m_o = client.record_mock_order\n",
    "\n",
    "for id, side, price, unfilled in [\n",
    "  # Various formats accepted\n",
    "  # id   side   APT/USD   APT to fill\n",
    "    (1,  Buy  ,   200    ,  '5.5' ),\n",
    "    (2, 'Buy' ,  '190.5' ,  10    ),\n",
    "    (3, 'Sell',  '230.0' ,  20    ),\n",
    "    (4,  Buy  ,   180    ,  '7.25'),\n",
    "    (5,  Sell ,   250    , '30.25')\n",
    "]:\n",
    "    e_url(r_m_o(econia, art_ad, id, side, price, unfilled))\n",
    "    time.sleep(.5)"
   ]
  },
  {
   "cell_type": "markdown",
   "id": "f82cbe10",
   "metadata": {},
   "source": [
    "Orders have been recorded in Art's open orders"
   ]
  },
  {
   "cell_type": "code",
   "execution_count": 23,
   "id": "b50e23c2",
   "metadata": {},
   "outputs": [
    {
     "data": {
      "text/html": [
       "<div>\n",
       "<style scoped>\n",
       "    .dataframe tbody tr th:only-of-type {\n",
       "        vertical-align: middle;\n",
       "    }\n",
       "\n",
       "    .dataframe tbody tr th {\n",
       "        vertical-align: top;\n",
       "    }\n",
       "\n",
       "    .dataframe thead th {\n",
       "        text-align: right;\n",
       "    }\n",
       "</style>\n",
       "<table border=\"1\" class=\"dataframe\">\n",
       "  <thead>\n",
       "    <tr style=\"text-align: right;\">\n",
       "      <th></th>\n",
       "      <th>side</th>\n",
       "      <th>price</th>\n",
       "      <th>unfilled</th>\n",
       "    </tr>\n",
       "    <tr>\n",
       "      <th>id</th>\n",
       "      <th></th>\n",
       "      <th></th>\n",
       "      <th></th>\n",
       "    </tr>\n",
       "  </thead>\n",
       "  <tbody>\n",
       "    <tr>\n",
       "      <th>1</th>\n",
       "      <td>Buy</td>\n",
       "      <td>200.0</td>\n",
       "      <td>5.50</td>\n",
       "    </tr>\n",
       "    <tr>\n",
       "      <th>2</th>\n",
       "      <td>Buy</td>\n",
       "      <td>190.5</td>\n",
       "      <td>10.00</td>\n",
       "    </tr>\n",
       "    <tr>\n",
       "      <th>3</th>\n",
       "      <td>Sell</td>\n",
       "      <td>230.0</td>\n",
       "      <td>20.00</td>\n",
       "    </tr>\n",
       "    <tr>\n",
       "      <th>4</th>\n",
       "      <td>Buy</td>\n",
       "      <td>180.0</td>\n",
       "      <td>7.25</td>\n",
       "    </tr>\n",
       "    <tr>\n",
       "      <th>5</th>\n",
       "      <td>Sell</td>\n",
       "      <td>250.0</td>\n",
       "      <td>30.25</td>\n",
       "    </tr>\n",
       "  </tbody>\n",
       "</table>\n",
       "</div>"
      ],
      "text/plain": [
       "    side  price  unfilled\n",
       "id                       \n",
       "1    Buy  200.0      5.50\n",
       "2    Buy  190.5     10.00\n",
       "3   Sell  230.0     20.00\n",
       "4    Buy  180.0      7.25\n",
       "5   Sell  250.0     30.25"
      ]
     },
     "execution_count": 23,
     "metadata": {},
     "output_type": "execute_result"
    }
   ],
   "source": [
    "client.open_orders(art_ad, u_ad)"
   ]
  },
  {
   "cell_type": "markdown",
   "id": "ccca3a3d",
   "metadata": {},
   "source": [
    "# Matching orders "
   ]
  },
  {
   "cell_type": "code",
   "execution_count": 24,
   "id": "0280ba95",
   "metadata": {},
   "outputs": [],
   "source": [
    "t_m_o = client.trigger_match_order"
   ]
  },
  {
   "cell_type": "markdown",
   "id": "343bc8cd",
   "metadata": {},
   "source": [
    "Partially fill Art's order w/ id 1: Fill 5 of his limit buy's 5.5 `APT` at a price of 200 `USD` per `APT` (1,000 `USD` total)"
   ]
  },
  {
   "cell_type": "code",
   "execution_count": 25,
   "id": "aa73146b",
   "metadata": {},
   "outputs": [
    {
     "name": "stdout",
     "output_type": "stream",
     "text": [
      "https://aptos-explorer.netlify.app/txn/159566\n"
     ]
    }
   ],
   "source": [
    "e_url(t_m_o(econia, art_ad, id=1, apt=5, usd=0))"
   ]
  },
  {
   "cell_type": "markdown",
   "id": "7bf883bc",
   "metadata": {},
   "source": [
    "Order id 1 unfilled amount has decreased by 5 to 0.5"
   ]
  },
  {
   "cell_type": "code",
   "execution_count": 26,
   "id": "923dbc09",
   "metadata": {},
   "outputs": [
    {
     "data": {
      "text/html": [
       "<div>\n",
       "<style scoped>\n",
       "    .dataframe tbody tr th:only-of-type {\n",
       "        vertical-align: middle;\n",
       "    }\n",
       "\n",
       "    .dataframe tbody tr th {\n",
       "        vertical-align: top;\n",
       "    }\n",
       "\n",
       "    .dataframe thead th {\n",
       "        text-align: right;\n",
       "    }\n",
       "</style>\n",
       "<table border=\"1\" class=\"dataframe\">\n",
       "  <thead>\n",
       "    <tr style=\"text-align: right;\">\n",
       "      <th></th>\n",
       "      <th>side</th>\n",
       "      <th>price</th>\n",
       "      <th>unfilled</th>\n",
       "    </tr>\n",
       "    <tr>\n",
       "      <th>id</th>\n",
       "      <th></th>\n",
       "      <th></th>\n",
       "      <th></th>\n",
       "    </tr>\n",
       "  </thead>\n",
       "  <tbody>\n",
       "    <tr>\n",
       "      <th>1</th>\n",
       "      <td>Buy</td>\n",
       "      <td>200.0</td>\n",
       "      <td>0.50</td>\n",
       "    </tr>\n",
       "    <tr>\n",
       "      <th>2</th>\n",
       "      <td>Buy</td>\n",
       "      <td>190.5</td>\n",
       "      <td>10.00</td>\n",
       "    </tr>\n",
       "    <tr>\n",
       "      <th>3</th>\n",
       "      <td>Sell</td>\n",
       "      <td>230.0</td>\n",
       "      <td>20.00</td>\n",
       "    </tr>\n",
       "    <tr>\n",
       "      <th>4</th>\n",
       "      <td>Buy</td>\n",
       "      <td>180.0</td>\n",
       "      <td>7.25</td>\n",
       "    </tr>\n",
       "    <tr>\n",
       "      <th>5</th>\n",
       "      <td>Sell</td>\n",
       "      <td>250.0</td>\n",
       "      <td>30.25</td>\n",
       "    </tr>\n",
       "  </tbody>\n",
       "</table>\n",
       "</div>"
      ],
      "text/plain": [
       "    side  price  unfilled\n",
       "id                       \n",
       "1    Buy  200.0      0.50\n",
       "2    Buy  190.5     10.00\n",
       "3   Sell  230.0     20.00\n",
       "4    Buy  180.0      7.25\n",
       "5   Sell  250.0     30.25"
      ]
     },
     "execution_count": 26,
     "metadata": {},
     "output_type": "execute_result"
    }
   ],
   "source": [
    "client.open_orders(art_ad, u_ad)"
   ]
  },
  {
   "cell_type": "markdown",
   "id": "fb884c24",
   "metadata": {},
   "source": [
    "Art's collateral balances have updated: 5 more `APT`, 1,000 less `USD`, putting him at 50.1 `APT` and 10,000.2 `USD`"
   ]
  },
  {
   "cell_type": "code",
   "execution_count": 27,
   "id": "c206a6c8",
   "metadata": {},
   "outputs": [
    {
     "data": {
      "text/plain": [
       "{'APT': {'holdings': Decimal('50.1'), 'available': Decimal('50.1')},\n",
       " 'USD': {'holdings': Decimal('10000.2'), 'available': Decimal('10000.2')}}"
      ]
     },
     "execution_count": 27,
     "metadata": {},
     "output_type": "execute_result"
    }
   ],
   "source": [
    "c_balance(art_ad, u_ad)"
   ]
  },
  {
   "cell_type": "markdown",
   "id": "b793140f",
   "metadata": {},
   "source": [
    "Completely fill Art's order w/ id 3: Fill all 20 of his limit sell's 20 `APT` at a price of 230 `USD` per `APT` (total of 4,600 `USD`)"
   ]
  },
  {
   "cell_type": "code",
   "execution_count": 28,
   "id": "cc068bf9",
   "metadata": {},
   "outputs": [
    {
     "name": "stdout",
     "output_type": "stream",
     "text": [
      "https://aptos-explorer.netlify.app/txn/159575\n"
     ]
    }
   ],
   "source": [
    "e_url(t_m_o(econia, art_ad, id=3, apt=0, usd=4600))"
   ]
  },
  {
   "cell_type": "markdown",
   "id": "d5f9430f",
   "metadata": {},
   "source": [
    "Order id 3 is now gone from Art's orders"
   ]
  },
  {
   "cell_type": "code",
   "execution_count": 29,
   "id": "77b89636",
   "metadata": {},
   "outputs": [
    {
     "data": {
      "text/html": [
       "<div>\n",
       "<style scoped>\n",
       "    .dataframe tbody tr th:only-of-type {\n",
       "        vertical-align: middle;\n",
       "    }\n",
       "\n",
       "    .dataframe tbody tr th {\n",
       "        vertical-align: top;\n",
       "    }\n",
       "\n",
       "    .dataframe thead th {\n",
       "        text-align: right;\n",
       "    }\n",
       "</style>\n",
       "<table border=\"1\" class=\"dataframe\">\n",
       "  <thead>\n",
       "    <tr style=\"text-align: right;\">\n",
       "      <th></th>\n",
       "      <th>side</th>\n",
       "      <th>price</th>\n",
       "      <th>unfilled</th>\n",
       "    </tr>\n",
       "    <tr>\n",
       "      <th>id</th>\n",
       "      <th></th>\n",
       "      <th></th>\n",
       "      <th></th>\n",
       "    </tr>\n",
       "  </thead>\n",
       "  <tbody>\n",
       "    <tr>\n",
       "      <th>1</th>\n",
       "      <td>Buy</td>\n",
       "      <td>200.0</td>\n",
       "      <td>0.50</td>\n",
       "    </tr>\n",
       "    <tr>\n",
       "      <th>2</th>\n",
       "      <td>Buy</td>\n",
       "      <td>190.5</td>\n",
       "      <td>10.00</td>\n",
       "    </tr>\n",
       "    <tr>\n",
       "      <th>4</th>\n",
       "      <td>Buy</td>\n",
       "      <td>180.0</td>\n",
       "      <td>7.25</td>\n",
       "    </tr>\n",
       "    <tr>\n",
       "      <th>5</th>\n",
       "      <td>Sell</td>\n",
       "      <td>250.0</td>\n",
       "      <td>30.25</td>\n",
       "    </tr>\n",
       "  </tbody>\n",
       "</table>\n",
       "</div>"
      ],
      "text/plain": [
       "    side  price  unfilled\n",
       "id                       \n",
       "1    Buy  200.0      0.50\n",
       "2    Buy  190.5     10.00\n",
       "4    Buy  180.0      7.25\n",
       "5   Sell  250.0     30.25"
      ]
     },
     "execution_count": 29,
     "metadata": {},
     "output_type": "execute_result"
    }
   ],
   "source": [
    "client.open_orders(art_ad, u_ad)"
   ]
  },
  {
   "cell_type": "markdown",
   "id": "1bb7baa7",
   "metadata": {},
   "source": [
    "Art's collateral balances have updated accordingly: 20 less `APT`, 4,600 more `USD`, putting him at 30.1 `APT` and 14,600.2 `USD`"
   ]
  },
  {
   "cell_type": "code",
   "execution_count": 30,
   "id": "2a199516",
   "metadata": {},
   "outputs": [
    {
     "data": {
      "text/plain": [
       "{'APT': {'holdings': Decimal('30.1'), 'available': Decimal('30.1')},\n",
       " 'USD': {'holdings': Decimal('14600.2'), 'available': Decimal('14600.2')}}"
      ]
     },
     "execution_count": 30,
     "metadata": {},
     "output_type": "execute_result"
    }
   ],
   "source": [
    "c_balance(art_ad, u_ad)"
   ]
  }
 ],
 "metadata": {
  "kernelspec": {
   "display_name": "Python 3 (ipykernel)",
   "language": "python",
   "name": "python3"
  },
  "language_info": {
   "codemirror_mode": {
    "name": "ipython",
    "version": 3
   },
   "file_extension": ".py",
   "mimetype": "text/x-python",
   "name": "python",
   "nbconvert_exporter": "python",
   "pygments_lexer": "ipython3",
   "version": "3.9.12"
  },
  "toc": {
   "base_numbering": 1,
   "nav_menu": {},
   "number_sections": true,
   "sideBar": true,
   "skip_h1_title": false,
   "title_cell": "Table of Contents",
   "title_sidebar": "Contents",
   "toc_cell": false,
   "toc_position": {},
   "toc_section_display": true,
   "toc_window_display": false
  }
 },
 "nbformat": 4,
 "nbformat_minor": 5
}
