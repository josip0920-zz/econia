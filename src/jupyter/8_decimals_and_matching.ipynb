{
 "cells": [
  {
   "cell_type": "markdown",
   "id": "1fba8898",
   "metadata": {},
   "source": [
    "# Initialization"
   ]
  },
  {
   "cell_type": "code",
   "execution_count": 1,
   "id": "0992e780",
   "metadata": {},
   "outputs": [],
   "source": [
    "import time\n",
    "from ultima.account import Account\n",
    "from ultima.rest import UltimaClient, APT, USD, Buy, Sell"
   ]
  },
  {
   "cell_type": "code",
   "execution_count": 2,
   "id": "cbf70fb4",
   "metadata": {},
   "outputs": [],
   "source": [
    "# Accounts\n",
    "client = UltimaClient()\n",
    "art = Account()\n",
    "bud = Account()\n",
    "ultima = Account(dev_nb=True)"
   ]
  },
  {
   "cell_type": "code",
   "execution_count": 3,
   "id": "f8994bbe",
   "metadata": {},
   "outputs": [],
   "source": [
    "# Aliases\n",
    "art_ad = art.address()\n",
    "bud_ad = bud.address()\n",
    "u_ad = ultima.address() "
   ]
  },
  {
   "cell_type": "code",
   "execution_count": 4,
   "id": "8dc99f3d",
   "metadata": {},
   "outputs": [],
   "source": [
    "# Fund both with TestCoin to cover tx fees\n",
    "client.mint_testcoin(art_ad)\n",
    "client.mint_testcoin(bud_ad)\n",
    "client.mint_testcoin(u_ad);"
   ]
  },
  {
   "cell_type": "markdown",
   "id": "b2c00544",
   "metadata": {},
   "source": [
    "# Airdrop and transfers"
   ]
  },
  {
   "cell_type": "code",
   "execution_count": 5,
   "id": "e8d70016",
   "metadata": {},
   "outputs": [],
   "source": [
    "# Publish an Ultima balance for Art and airdrop to him\n",
    "client.publish_ultima_balances(art, u_ad)\n",
    "client.airdrop_ultima_coins(ultima, art_ad, '100.3', '20000.5');"
   ]
  },
  {
   "cell_type": "code",
   "execution_count": 6,
   "id": "47bd9586",
   "metadata": {},
   "outputs": [
    {
     "data": {
      "text/plain": [
       "{'APT': Decimal('100.3'), 'USD': Decimal('20000.5')}"
      ]
     },
     "execution_count": 6,
     "metadata": {},
     "output_type": "execute_result"
    }
   ],
   "source": [
    "# Art's Regular balance\n",
    "client.account_ultima_coin_balances(art_ad, u_ad)"
   ]
  },
  {
   "cell_type": "code",
   "execution_count": 7,
   "id": "65a75ee4",
   "metadata": {},
   "outputs": [],
   "source": [
    "# Transfer to Bud\n",
    "client.publish_ultima_balances(bud, u_ad)\n",
    "client.transfer_ultima_coins(art, bud_ad, u_ad, '30.1', '5000.2');"
   ]
  },
  {
   "cell_type": "code",
   "execution_count": 8,
   "id": "ef2b3a14",
   "metadata": {},
   "outputs": [
    {
     "data": {
      "text/plain": [
       "{'APT': Decimal('0'), 'USD': Decimal('5000.2')}"
      ]
     },
     "execution_count": 8,
     "metadata": {},
     "output_type": "execute_result"
    }
   ],
   "source": [
    "# Bud's balance has gone up\n",
    "client.account_ultima_coin_balances(bud_ad, u_ad)"
   ]
  },
  {
   "cell_type": "code",
   "execution_count": 9,
   "id": "a3fa5266",
   "metadata": {},
   "outputs": [
    {
     "data": {
      "text/plain": [
       "{'APT': Decimal('70.2'), 'USD': Decimal('15000.3')}"
      ]
     },
     "execution_count": 9,
     "metadata": {},
     "output_type": "execute_result"
    }
   ],
   "source": [
    "# Art's balance has gone down\n",
    "client.account_ultima_coin_balances(art_ad, u_ad)"
   ]
  },
  {
   "cell_type": "markdown",
   "id": "e1c6ca09",
   "metadata": {},
   "source": [
    "# Collateral account funding"
   ]
  },
  {
   "cell_type": "code",
   "execution_count": 10,
   "id": "31402590",
   "metadata": {},
   "outputs": [],
   "source": [
    "# Init collateral accounts and deposit\n",
    "client.init_account(art, u_ad)\n",
    "client.deposit_coins(art, u_ad, '60.1', '15000.2');"
   ]
  },
  {
   "cell_type": "code",
   "execution_count": 11,
   "id": "921127b2",
   "metadata": {},
   "outputs": [
    {
     "data": {
      "text/plain": [
       "{'APT': {'holdings': Decimal('60.1'), 'available': Decimal('60.1')},\n",
       " 'USD': {'holdings': Decimal('15000.2'), 'available': Decimal('15000.2')}}"
      ]
     },
     "execution_count": 11,
     "metadata": {},
     "output_type": "execute_result"
    }
   ],
   "source": [
    "# Art's collateral balance has gone up\n",
    "client.collateral_balances(art_ad, u_ad)"
   ]
  },
  {
   "cell_type": "code",
   "execution_count": 12,
   "id": "9832ced7",
   "metadata": {},
   "outputs": [
    {
     "data": {
      "text/plain": [
       "{'APT': Decimal('10.1'), 'USD': Decimal('0.1')}"
      ]
     },
     "execution_count": 12,
     "metadata": {},
     "output_type": "execute_result"
    }
   ],
   "source": [
    "# Art's regular balance has gone down accordingly\n",
    "client.account_ultima_coin_balances(art_ad, u_ad)"
   ]
  },
  {
   "cell_type": "code",
   "execution_count": 13,
   "id": "6489ed2a",
   "metadata": {},
   "outputs": [
    {
     "data": {
      "text/plain": [
       "{'APT': Decimal('25.1'), 'USD': Decimal('4000.1')}"
      ]
     },
     "execution_count": 13,
     "metadata": {},
     "output_type": "execute_result"
    }
   ],
   "source": [
    "# Art withdraws collateral and regular balance has increased\n",
    "client.withdraw_coins(art, u_ad, '15', '4000')\n",
    "client.account_ultima_coin_balances(art_ad, u_ad)"
   ]
  },
  {
   "cell_type": "code",
   "execution_count": 14,
   "id": "8f5d0432",
   "metadata": {},
   "outputs": [
    {
     "data": {
      "text/plain": [
       "{'APT': {'holdings': Decimal('45.1'), 'available': Decimal('45.1')},\n",
       " 'USD': {'holdings': Decimal('11000.2'), 'available': Decimal('11000.2')}}"
      ]
     },
     "execution_count": 14,
     "metadata": {},
     "output_type": "execute_result"
    }
   ],
   "source": [
    "# Collateral account has gone down accordingly\n",
    "client.collateral_balances(art_ad, u_ad)"
   ]
  },
  {
   "cell_type": "markdown",
   "id": "fe94b3d6",
   "metadata": {},
   "source": [
    "# Recording orders "
   ]
  },
  {
   "cell_type": "code",
   "execution_count": 15,
   "id": "df14fb87",
   "metadata": {},
   "outputs": [],
   "source": [
    "# Record mock orders to Art's account\n",
    "r_m_o = client.record_mock_order\n",
    "\n",
    "for id, side, price, unfilled in [\n",
    "    # Various formats accepted\n",
    "    (1,  Buy  ,   200    ,  '5.5' ),\n",
    "    (2, 'Buy' ,  '190.5' ,  10    ),\n",
    "    (3, 'Sell',  '230.0' ,  20    ),\n",
    "    (4,  Buy  ,   180    ,  '7.25'),\n",
    "    (5,  Sell ,   250    , '30.25')\n",
    "]:\n",
    "    r_m_o(ultima, art_ad, id, side, price, unfilled)\n",
    "    time.sleep(.5)"
   ]
  },
  {
   "cell_type": "code",
   "execution_count": 16,
   "id": "b50e23c2",
   "metadata": {},
   "outputs": [
    {
     "data": {
      "text/html": [
       "<div>\n",
       "<style scoped>\n",
       "    .dataframe tbody tr th:only-of-type {\n",
       "        vertical-align: middle;\n",
       "    }\n",
       "\n",
       "    .dataframe tbody tr th {\n",
       "        vertical-align: top;\n",
       "    }\n",
       "\n",
       "    .dataframe thead th {\n",
       "        text-align: right;\n",
       "    }\n",
       "</style>\n",
       "<table border=\"1\" class=\"dataframe\">\n",
       "  <thead>\n",
       "    <tr style=\"text-align: right;\">\n",
       "      <th></th>\n",
       "      <th>side</th>\n",
       "      <th>price</th>\n",
       "      <th>unfilled</th>\n",
       "    </tr>\n",
       "    <tr>\n",
       "      <th>id</th>\n",
       "      <th></th>\n",
       "      <th></th>\n",
       "      <th></th>\n",
       "    </tr>\n",
       "  </thead>\n",
       "  <tbody>\n",
       "    <tr>\n",
       "      <th>1</th>\n",
       "      <td>Buy</td>\n",
       "      <td>200.0</td>\n",
       "      <td>5.50</td>\n",
       "    </tr>\n",
       "    <tr>\n",
       "      <th>2</th>\n",
       "      <td>Buy</td>\n",
       "      <td>190.5</td>\n",
       "      <td>10.00</td>\n",
       "    </tr>\n",
       "    <tr>\n",
       "      <th>3</th>\n",
       "      <td>Sell</td>\n",
       "      <td>230.0</td>\n",
       "      <td>20.00</td>\n",
       "    </tr>\n",
       "    <tr>\n",
       "      <th>4</th>\n",
       "      <td>Buy</td>\n",
       "      <td>180.0</td>\n",
       "      <td>7.25</td>\n",
       "    </tr>\n",
       "    <tr>\n",
       "      <th>5</th>\n",
       "      <td>Sell</td>\n",
       "      <td>250.0</td>\n",
       "      <td>30.25</td>\n",
       "    </tr>\n",
       "  </tbody>\n",
       "</table>\n",
       "</div>"
      ],
      "text/plain": [
       "    side  price  unfilled\n",
       "id                       \n",
       "1    Buy  200.0      5.50\n",
       "2    Buy  190.5     10.00\n",
       "3   Sell  230.0     20.00\n",
       "4    Buy  180.0      7.25\n",
       "5   Sell  250.0     30.25"
      ]
     },
     "execution_count": 16,
     "metadata": {},
     "output_type": "execute_result"
    }
   ],
   "source": [
    "# Orders have been recorded\n",
    "client.open_orders(art_ad, u_ad)"
   ]
  },
  {
   "cell_type": "markdown",
   "id": "ccca3a3d",
   "metadata": {},
   "source": [
    "# Matching orders "
   ]
  },
  {
   "cell_type": "code",
   "execution_count": 17,
   "id": "0280ba95",
   "metadata": {},
   "outputs": [],
   "source": [
    "t_m_o = client.trigger_match_order"
   ]
  },
  {
   "cell_type": "code",
   "execution_count": 18,
   "id": "aa73146b",
   "metadata": {},
   "outputs": [],
   "source": [
    "# Partially fill Art's order w/ id 1\n",
    "t_m_o(ultima, art_ad, 1, 5, 0);"
   ]
  },
  {
   "cell_type": "code",
   "execution_count": 19,
   "id": "923dbc09",
   "metadata": {},
   "outputs": [
    {
     "data": {
      "text/html": [
       "<div>\n",
       "<style scoped>\n",
       "    .dataframe tbody tr th:only-of-type {\n",
       "        vertical-align: middle;\n",
       "    }\n",
       "\n",
       "    .dataframe tbody tr th {\n",
       "        vertical-align: top;\n",
       "    }\n",
       "\n",
       "    .dataframe thead th {\n",
       "        text-align: right;\n",
       "    }\n",
       "</style>\n",
       "<table border=\"1\" class=\"dataframe\">\n",
       "  <thead>\n",
       "    <tr style=\"text-align: right;\">\n",
       "      <th></th>\n",
       "      <th>side</th>\n",
       "      <th>price</th>\n",
       "      <th>unfilled</th>\n",
       "    </tr>\n",
       "    <tr>\n",
       "      <th>id</th>\n",
       "      <th></th>\n",
       "      <th></th>\n",
       "      <th></th>\n",
       "    </tr>\n",
       "  </thead>\n",
       "  <tbody>\n",
       "    <tr>\n",
       "      <th>1</th>\n",
       "      <td>Buy</td>\n",
       "      <td>200.0</td>\n",
       "      <td>0.50</td>\n",
       "    </tr>\n",
       "    <tr>\n",
       "      <th>2</th>\n",
       "      <td>Buy</td>\n",
       "      <td>190.5</td>\n",
       "      <td>10.00</td>\n",
       "    </tr>\n",
       "    <tr>\n",
       "      <th>3</th>\n",
       "      <td>Sell</td>\n",
       "      <td>230.0</td>\n",
       "      <td>20.00</td>\n",
       "    </tr>\n",
       "    <tr>\n",
       "      <th>4</th>\n",
       "      <td>Buy</td>\n",
       "      <td>180.0</td>\n",
       "      <td>7.25</td>\n",
       "    </tr>\n",
       "    <tr>\n",
       "      <th>5</th>\n",
       "      <td>Sell</td>\n",
       "      <td>250.0</td>\n",
       "      <td>30.25</td>\n",
       "    </tr>\n",
       "  </tbody>\n",
       "</table>\n",
       "</div>"
      ],
      "text/plain": [
       "    side  price  unfilled\n",
       "id                       \n",
       "1    Buy  200.0      0.50\n",
       "2    Buy  190.5     10.00\n",
       "3   Sell  230.0     20.00\n",
       "4    Buy  180.0      7.25\n",
       "5   Sell  250.0     30.25"
      ]
     },
     "execution_count": 19,
     "metadata": {},
     "output_type": "execute_result"
    }
   ],
   "source": [
    "# Order id 1 unfilled amount has decreased\n",
    "client.open_orders(art_ad, u_ad)"
   ]
  },
  {
   "cell_type": "code",
   "execution_count": 20,
   "id": "c206a6c8",
   "metadata": {},
   "outputs": [
    {
     "data": {
      "text/plain": [
       "{'APT': {'holdings': Decimal('50.1'), 'available': Decimal('50.1')},\n",
       " 'USD': {'holdings': Decimal('10000.2'), 'available': Decimal('10000.2')}}"
      ]
     },
     "execution_count": 20,
     "metadata": {},
     "output_type": "execute_result"
    }
   ],
   "source": [
    "# Collateral balances have updated\n",
    "client.collateral_balances(art_ad, u_ad)"
   ]
  },
  {
   "cell_type": "code",
   "execution_count": 21,
   "id": "cc068bf9",
   "metadata": {},
   "outputs": [],
   "source": [
    "# Completely fill Art's order w/ id 3\n",
    "t_m_o(ultima, art_ad, 3, 0, 4600);"
   ]
  },
  {
   "cell_type": "code",
   "execution_count": 22,
   "id": "77b89636",
   "metadata": {},
   "outputs": [
    {
     "data": {
      "text/html": [
       "<div>\n",
       "<style scoped>\n",
       "    .dataframe tbody tr th:only-of-type {\n",
       "        vertical-align: middle;\n",
       "    }\n",
       "\n",
       "    .dataframe tbody tr th {\n",
       "        vertical-align: top;\n",
       "    }\n",
       "\n",
       "    .dataframe thead th {\n",
       "        text-align: right;\n",
       "    }\n",
       "</style>\n",
       "<table border=\"1\" class=\"dataframe\">\n",
       "  <thead>\n",
       "    <tr style=\"text-align: right;\">\n",
       "      <th></th>\n",
       "      <th>side</th>\n",
       "      <th>price</th>\n",
       "      <th>unfilled</th>\n",
       "    </tr>\n",
       "    <tr>\n",
       "      <th>id</th>\n",
       "      <th></th>\n",
       "      <th></th>\n",
       "      <th></th>\n",
       "    </tr>\n",
       "  </thead>\n",
       "  <tbody>\n",
       "    <tr>\n",
       "      <th>1</th>\n",
       "      <td>Buy</td>\n",
       "      <td>200.0</td>\n",
       "      <td>0.50</td>\n",
       "    </tr>\n",
       "    <tr>\n",
       "      <th>2</th>\n",
       "      <td>Buy</td>\n",
       "      <td>190.5</td>\n",
       "      <td>10.00</td>\n",
       "    </tr>\n",
       "    <tr>\n",
       "      <th>4</th>\n",
       "      <td>Buy</td>\n",
       "      <td>180.0</td>\n",
       "      <td>7.25</td>\n",
       "    </tr>\n",
       "    <tr>\n",
       "      <th>5</th>\n",
       "      <td>Sell</td>\n",
       "      <td>250.0</td>\n",
       "      <td>30.25</td>\n",
       "    </tr>\n",
       "  </tbody>\n",
       "</table>\n",
       "</div>"
      ],
      "text/plain": [
       "    side  price  unfilled\n",
       "id                       \n",
       "1    Buy  200.0      0.50\n",
       "2    Buy  190.5     10.00\n",
       "4    Buy  180.0      7.25\n",
       "5   Sell  250.0     30.25"
      ]
     },
     "execution_count": 22,
     "metadata": {},
     "output_type": "execute_result"
    }
   ],
   "source": [
    "# Order id 3 is now gone from Art's orders\n",
    "client.open_orders(art_ad, u_ad)"
   ]
  },
  {
   "cell_type": "code",
   "execution_count": 23,
   "id": "2a199516",
   "metadata": {},
   "outputs": [
    {
     "data": {
      "text/plain": [
       "{'APT': {'holdings': Decimal('30.1'), 'available': Decimal('30.1')},\n",
       " 'USD': {'holdings': Decimal('14600.2'), 'available': Decimal('14600.2')}}"
      ]
     },
     "execution_count": 23,
     "metadata": {},
     "output_type": "execute_result"
    }
   ],
   "source": [
    "# Collateral balances have updated\n",
    "client.collateral_balances(art_ad, u_ad)"
   ]
  }
 ],
 "metadata": {
  "kernelspec": {
   "display_name": "Python 3 (ipykernel)",
   "language": "python",
   "name": "python3"
  },
  "language_info": {
   "codemirror_mode": {
    "name": "ipython",
    "version": 3
   },
   "file_extension": ".py",
   "mimetype": "text/x-python",
   "name": "python",
   "nbconvert_exporter": "python",
   "pygments_lexer": "ipython3",
   "version": "3.9.12"
  },
  "toc": {
   "base_numbering": 1,
   "nav_menu": {},
   "number_sections": true,
   "sideBar": true,
   "skip_h1_title": false,
   "title_cell": "Table of Contents",
   "title_sidebar": "Contents",
   "toc_cell": false,
   "toc_position": {},
   "toc_section_display": true,
   "toc_window_display": false
  }
 },
 "nbformat": 4,
 "nbformat_minor": 5
}
