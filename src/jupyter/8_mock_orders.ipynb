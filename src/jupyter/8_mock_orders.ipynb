{
 "cells": [
  {
   "cell_type": "markdown",
   "id": "1fba8898",
   "metadata": {},
   "source": [
    "# Initialization"
   ]
  },
  {
   "cell_type": "code",
   "execution_count": 1,
   "id": "0992e780",
   "metadata": {},
   "outputs": [],
   "source": [
    "import pandas as pd\n",
    "from ultima.account import Account\n",
    "from ultima.rest import UltimaClient\n",
    "from ultima.defs import ultima_bool_maps as ubms, ultima_modules as ums"
   ]
  },
  {
   "cell_type": "code",
   "execution_count": 2,
   "id": "cbf70fb4",
   "metadata": {},
   "outputs": [],
   "source": [
    "client = UltimaClient()\n",
    "art = Account()\n",
    "ultima = Account(path='../../.secrets/a03d8a97a108f9e1a76aede4af1272f15dd2c0f0f6787da707fde858c01d8131.key')"
   ]
  },
  {
   "cell_type": "code",
   "execution_count": 3,
   "id": "8dc99f3d",
   "metadata": {},
   "outputs": [],
   "source": [
    "# Fund both with TestCoin to cover tx fees\n",
    "_ = client.mint_testcoin(art.address(), 1_000_000)\n",
    "_ = client.mint_testcoin(ultima.address(), 1_000_000)"
   ]
  },
  {
   "cell_type": "code",
   "execution_count": 4,
   "id": "e8d70016",
   "metadata": {},
   "outputs": [
    {
     "data": {
      "text/plain": [
       "'0xf9575080ae89dd56f8a6b030424c107018f4ce548d493e72414e3f912440931c'"
      ]
     },
     "execution_count": 4,
     "metadata": {},
     "output_type": "execute_result"
    }
   ],
   "source": [
    "# Initialize collateral account then check again\n",
    "client.init_account(art, ultima.address())"
   ]
  },
  {
   "cell_type": "markdown",
   "id": "fe94b3d6",
   "metadata": {},
   "source": [
    "# Placing orders "
   ]
  },
  {
   "cell_type": "code",
   "execution_count": 5,
   "id": "28c1af50",
   "metadata": {},
   "outputs": [
    {
     "data": {
      "text/plain": [
       "'0x57af58d3ab2165c96eba6528e77011f7ccbe7db2f285b3472fa54b24011053a2'"
      ]
     },
     "execution_count": 5,
     "metadata": {},
     "output_type": "execute_result"
    }
   ],
   "source": [
    "client.record_mock_order(\n",
    "    ultima,\n",
    "    art.address(),\n",
    "    id=123,\n",
    "    time=123456,\n",
    "    liq=True,\n",
    "    side=True,\n",
    "    price=12300000,\n",
    "    amount_apt=12350000000,\n",
    "    amount_usd=0,\n",
    "    filled=10000000000,\n",
    "    open=True,\n",
    "    cancelled=False,\n",
    "    cancel_time=0\n",
    ")\n",
    "client.record_mock_order(\n",
    "    ultima,\n",
    "    art.address(),\n",
    "    id=234,\n",
    "    time=123456,\n",
    "    liq=True,\n",
    "    side=True,\n",
    "    price=11300000,\n",
    "    amount_apt=2400000000,\n",
    "    amount_usd=0,\n",
    "    filled=15000000000,\n",
    "    open=True,\n",
    "    cancelled=False,\n",
    "    cancel_time=0\n",
    ")"
   ]
  },
  {
   "cell_type": "code",
   "execution_count": 6,
   "id": "abebffca",
   "metadata": {},
   "outputs": [
    {
     "data": {
      "text/html": [
       "<div>\n",
       "<style scoped>\n",
       "    .dataframe tbody tr th:only-of-type {\n",
       "        vertical-align: middle;\n",
       "    }\n",
       "\n",
       "    .dataframe tbody tr th {\n",
       "        vertical-align: top;\n",
       "    }\n",
       "\n",
       "    .dataframe thead th {\n",
       "        text-align: right;\n",
       "    }\n",
       "</style>\n",
       "<table border=\"1\" class=\"dataframe\">\n",
       "  <thead>\n",
       "    <tr style=\"text-align: right;\">\n",
       "      <th></th>\n",
       "      <th>id</th>\n",
       "      <th>time</th>\n",
       "      <th>liq</th>\n",
       "      <th>side</th>\n",
       "      <th>price</th>\n",
       "      <th>amount_apt</th>\n",
       "      <th>amount_usd</th>\n",
       "      <th>filled</th>\n",
       "      <th>open</th>\n",
       "      <th>cancelled</th>\n",
       "      <th>cancel_time</th>\n",
       "    </tr>\n",
       "  </thead>\n",
       "  <tbody>\n",
       "    <tr>\n",
       "      <th>0</th>\n",
       "      <td>123</td>\n",
       "      <td>1970-01-01 00:00:00.123456</td>\n",
       "      <td>Maker</td>\n",
       "      <td>Buy</td>\n",
       "      <td>12.3</td>\n",
       "      <td>123.5</td>\n",
       "      <td>0.0</td>\n",
       "      <td>100.0</td>\n",
       "      <td>True</td>\n",
       "      <td>False</td>\n",
       "      <td>1970-01-01</td>\n",
       "    </tr>\n",
       "    <tr>\n",
       "      <th>1</th>\n",
       "      <td>234</td>\n",
       "      <td>1970-01-01 00:00:00.123456</td>\n",
       "      <td>Maker</td>\n",
       "      <td>Buy</td>\n",
       "      <td>11.3</td>\n",
       "      <td>24.0</td>\n",
       "      <td>0.0</td>\n",
       "      <td>150.0</td>\n",
       "      <td>True</td>\n",
       "      <td>False</td>\n",
       "      <td>1970-01-01</td>\n",
       "    </tr>\n",
       "  </tbody>\n",
       "</table>\n",
       "</div>"
      ],
      "text/plain": [
       "    id                       time    liq side  price  amount_apt  amount_usd  \\\n",
       "0  123 1970-01-01 00:00:00.123456  Maker  Buy   12.3       123.5         0.0   \n",
       "1  234 1970-01-01 00:00:00.123456  Maker  Buy   11.3        24.0         0.0   \n",
       "\n",
       "   filled  open  cancelled cancel_time  \n",
       "0   100.0  True      False  1970-01-01  \n",
       "1   150.0  True      False  1970-01-01  "
      ]
     },
     "execution_count": 6,
     "metadata": {},
     "output_type": "execute_result"
    }
   ],
   "source": [
    "client.order_history(art.address(), ultima.address())"
   ]
  }
 ],
 "metadata": {
  "kernelspec": {
   "display_name": "Python 3 (ipykernel)",
   "language": "python",
   "name": "python3"
  },
  "language_info": {
   "codemirror_mode": {
    "name": "ipython",
    "version": 3
   },
   "file_extension": ".py",
   "mimetype": "text/x-python",
   "name": "python",
   "nbconvert_exporter": "python",
   "pygments_lexer": "ipython3",
   "version": "3.9.12"
  },
  "toc": {
   "base_numbering": 1,
   "nav_menu": {},
   "number_sections": true,
   "sideBar": true,
   "skip_h1_title": false,
   "title_cell": "Table of Contents",
   "title_sidebar": "Contents",
   "toc_cell": false,
   "toc_position": {},
   "toc_section_display": true,
   "toc_window_display": false
  }
 },
 "nbformat": 4,
 "nbformat_minor": 5
}
