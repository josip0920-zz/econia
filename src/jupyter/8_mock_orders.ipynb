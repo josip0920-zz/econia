{
 "cells": [
  {
   "cell_type": "markdown",
   "id": "1fba8898",
   "metadata": {},
   "source": [
    "# Initialization"
   ]
  },
  {
   "cell_type": "code",
   "execution_count": 1,
   "id": "0992e780",
   "metadata": {},
   "outputs": [],
   "source": [
    "from ultima.account import Account\n",
    "from ultima.rest import (\n",
    "    APT,\n",
    "    scale_map,\n",
    "    subs,\n",
    "    UltimaClient,\n",
    "    USD\n",
    ")"
   ]
  },
  {
   "cell_type": "code",
   "execution_count": 2,
   "id": "cbf70fb4",
   "metadata": {},
   "outputs": [],
   "source": [
    "client = UltimaClient()\n",
    "art = Account()\n",
    "ultima = Account(dev_nb=True)"
   ]
  },
  {
   "cell_type": "code",
   "execution_count": 3,
   "id": "711a3c00",
   "metadata": {},
   "outputs": [
    {
     "data": {
      "text/plain": [
       "'2787bd52d62a5171f68b8c0dd1326efc94aa34109883f214496e5cd1556312da'"
      ]
     },
     "execution_count": 3,
     "metadata": {},
     "output_type": "execute_result"
    }
   ],
   "source": [
    "ultima.address()"
   ]
  },
  {
   "cell_type": "code",
   "execution_count": 4,
   "id": "8dc99f3d",
   "metadata": {},
   "outputs": [],
   "source": [
    "# Fund both with TestCoin to cover tx fees\n",
    "_ = client.mint_testcoin(art.address())\n",
    "_ = client.mint_testcoin(ultima.address())"
   ]
  },
  {
   "cell_type": "code",
   "execution_count": 5,
   "id": "e8d70016",
   "metadata": {},
   "outputs": [
    {
     "data": {
      "text/plain": [
       "'0xb5ccd9f57eb13a6a337fd249a1cdcea13bb28702f2fcd413d0bd0015c20ecbb7'"
      ]
     },
     "execution_count": 5,
     "metadata": {},
     "output_type": "execute_result"
    }
   ],
   "source": [
    "# Initialize collateral account then check again\n",
    "client.init_account(art, ultima.address())"
   ]
  },
  {
   "cell_type": "markdown",
   "id": "fe94b3d6",
   "metadata": {},
   "source": [
    "# Placing orders "
   ]
  },
  {
   "cell_type": "code",
   "execution_count": 6,
   "id": "28c1af50",
   "metadata": {},
   "outputs": [
    {
     "data": {
      "text/plain": [
       "'0x19a37d849cdda5aadb253d6c3650cba566cad48a3a5be345bcbbabd001ec61df'"
      ]
     },
     "execution_count": 6,
     "metadata": {},
     "output_type": "execute_result"
    }
   ],
   "source": [
    "# An ask\n",
    "client.record_mock_order(\n",
    "    ultima,\n",
    "    art.address(),\n",
    "    id=123,\n",
    "    side='Sell', # Casts to bool\n",
    "    price=123, # str or int\n",
    "    unfilled='14.234' # str or int\n",
    ")\n",
    "# A bid\n",
    "client.record_mock_order(\n",
    "    ultima,\n",
    "    art.address(),\n",
    "    id=345,\n",
    "    side='Buy', # Casts to bool\n",
    "    # Truncates if too many digits specified\n",
    "    price='100.12345678', # str or int\n",
    "    unfilled=2, # str or int\n",
    ")"
   ]
  },
  {
   "cell_type": "code",
   "execution_count": 7,
   "id": "abebffca",
   "metadata": {},
   "outputs": [
    {
     "data": {
      "text/html": [
       "<div>\n",
       "<style scoped>\n",
       "    .dataframe tbody tr th:only-of-type {\n",
       "        vertical-align: middle;\n",
       "    }\n",
       "\n",
       "    .dataframe tbody tr th {\n",
       "        vertical-align: top;\n",
       "    }\n",
       "\n",
       "    .dataframe thead th {\n",
       "        text-align: right;\n",
       "    }\n",
       "</style>\n",
       "<table border=\"1\" class=\"dataframe\">\n",
       "  <thead>\n",
       "    <tr style=\"text-align: right;\">\n",
       "      <th></th>\n",
       "      <th>id</th>\n",
       "      <th>side</th>\n",
       "      <th>price</th>\n",
       "      <th>unfilled</th>\n",
       "    </tr>\n",
       "  </thead>\n",
       "  <tbody>\n",
       "    <tr>\n",
       "      <th>0</th>\n",
       "      <td>123</td>\n",
       "      <td>Sell</td>\n",
       "      <td>123.000000</td>\n",
       "      <td>14.234</td>\n",
       "    </tr>\n",
       "    <tr>\n",
       "      <th>1</th>\n",
       "      <td>345</td>\n",
       "      <td>Buy</td>\n",
       "      <td>100.123456</td>\n",
       "      <td>2.000</td>\n",
       "    </tr>\n",
       "  </tbody>\n",
       "</table>\n",
       "</div>"
      ],
      "text/plain": [
       "    id  side       price  unfilled\n",
       "0  123  Sell  123.000000    14.234\n",
       "1  345   Buy  100.123456     2.000"
      ]
     },
     "execution_count": 7,
     "metadata": {},
     "output_type": "execute_result"
    }
   ],
   "source": [
    "client.open_orders(art.address(), ultima.address())"
   ]
  }
 ],
 "metadata": {
  "kernelspec": {
   "display_name": "Python 3 (ipykernel)",
   "language": "python",
   "name": "python3"
  },
  "language_info": {
   "codemirror_mode": {
    "name": "ipython",
    "version": 3
   },
   "file_extension": ".py",
   "mimetype": "text/x-python",
   "name": "python",
   "nbconvert_exporter": "python",
   "pygments_lexer": "ipython3",
   "version": "3.9.12"
  },
  "toc": {
   "base_numbering": 1,
   "nav_menu": {},
   "number_sections": true,
   "sideBar": true,
   "skip_h1_title": false,
   "title_cell": "Table of Contents",
   "title_sidebar": "Contents",
   "toc_cell": false,
   "toc_position": {},
   "toc_section_display": true,
   "toc_window_display": false
  }
 },
 "nbformat": 4,
 "nbformat_minor": 5
}
