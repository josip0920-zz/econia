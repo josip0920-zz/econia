{
 "cells": [
  {
   "cell_type": "markdown",
   "id": "f9569598",
   "metadata": {},
   "source": [
    "# Initialization"
   ]
  },
  {
   "cell_type": "code",
   "execution_count": null,
   "id": "f46a9fb6",
   "metadata": {},
   "outputs": [],
   "source": [
    "from econia.account import Account\n",
    "from econia.rest import EconiaClient, move_trio, typed_trio\n",
    "import econia.defs as defs"
   ]
  },
  {
   "cell_type": "code",
   "execution_count": null,
   "id": "29bef016",
   "metadata": {},
   "outputs": [],
   "source": [
    "client = EconiaClient()"
   ]
  },
  {
   "cell_type": "markdown",
   "id": "214c7a0d",
   "metadata": {},
   "source": [
    "## Users"
   ]
  },
  {
   "cell_type": "code",
   "execution_count": null,
   "id": "63f51d50",
   "metadata": {},
   "outputs": [],
   "source": [
    "econia = Account(dev_nb=True)\n",
    "user = Account()"
   ]
  },
  {
   "cell_type": "code",
   "execution_count": null,
   "id": "67caaf8e",
   "metadata": {},
   "outputs": [],
   "source": [
    "# Aliases\n",
    "vn_url = client.tx_vn_url_print\n",
    "coins_module = defs.econia_modules.Coins.name\n",
    "bct_struct = defs.econia_modules.Coins.structs.BCT\n",
    "qct_struct = defs.econia_modules.Coins.structs.QCT\n",
    "BCT = move_trio(econia.address(), coins_module, bct_struct)\n",
    "QCT = move_trio(econia.address(), coins_module, qct_struct)\n",
    "CoinStore = move_trio(\n",
    "    defs.named_addrs.Std,\n",
    "    defs.module_names.Coin,\n",
    "    defs.member_names.CoinStore)\n",
    "bct_coinstore = typed_trio(CoinStore, BCT)\n",
    "qct_coinstore = typed_trio(CoinStore, QCT)"
   ]
  },
  {
   "cell_type": "code",
   "execution_count": null,
   "id": "423e8a7a",
   "metadata": {},
   "outputs": [],
   "source": [
    "vn_url(client.mint_testcoin(user.address()))"
   ]
  },
  {
   "cell_type": "markdown",
   "id": "52920904",
   "metadata": {},
   "source": [
    "## Econia core resources"
   ]
  },
  {
   "cell_type": "markdown",
   "id": "b8ab1c46",
   "metadata": {},
   "source": [
    "Send initialization trigger"
   ]
  },
  {
   "cell_type": "code",
   "execution_count": null,
   "id": "18ecfcdd",
   "metadata": {},
   "outputs": [],
   "source": [
    "vn_url(client.init_econia(econia))"
   ]
  },
  {
   "cell_type": "markdown",
   "id": "f0b876fc",
   "metadata": {},
   "source": [
    "Verify core structs initialized"
   ]
  },
  {
   "cell_type": "code",
   "execution_count": null,
   "id": "4f4f4b55",
   "metadata": {},
   "outputs": [],
   "source": [
    "client.core_structs(econia.address())"
   ]
  },
  {
   "cell_type": "markdown",
   "id": "420652ae",
   "metadata": {},
   "source": [
    "## Coin types"
   ]
  },
  {
   "cell_type": "markdown",
   "id": "4b322710",
   "metadata": {},
   "source": [
    "Initialize mock coin types"
   ]
  },
  {
   "cell_type": "code",
   "execution_count": null,
   "id": "6d90975f",
   "metadata": {},
   "outputs": [],
   "source": [
    "vn_url(client.init_coin_types(econia))"
   ]
  },
  {
   "cell_type": "markdown",
   "id": "49d0926b",
   "metadata": {},
   "source": [
    "Register a coin store for Econia and for test user"
   ]
  },
  {
   "cell_type": "code",
   "execution_count": null,
   "id": "54dcc936",
   "metadata": {},
   "outputs": [],
   "source": [
    "vn_url(client.register_coin_store(econia, BCT))\n",
    "vn_url(client.register_coin_store(econia, QCT))\n",
    "vn_url(client.register_coin_store(user, BCT))\n",
    "vn_url(client.register_coin_store(user, QCT))"
   ]
  },
  {
   "cell_type": "markdown",
   "id": "38a3fc9c",
   "metadata": {},
   "source": [
    "Mint BCT and QCT to each party"
   ]
  },
  {
   "cell_type": "code",
   "execution_count": null,
   "id": "eb0b9646",
   "metadata": {},
   "outputs": [],
   "source": [
    "vn_url(client.coins_mint_to(econia, econia.address(), 1_000_000, 2_000_000))\n",
    "vn_url(client.coins_mint_to(econia, user.address(), 3_000_000, 4_000_000))"
   ]
  },
  {
   "cell_type": "markdown",
   "id": "f98e2e9e",
   "metadata": {},
   "source": [
    "Verify holdings for each party"
   ]
  },
  {
   "cell_type": "code",
   "execution_count": null,
   "id": "523ffa7e",
   "metadata": {},
   "outputs": [],
   "source": [
    "print(client.account_resource(econia.address(), bct_coinstore))\n",
    "print(client.account_resource(econia.address(), qct_coinstore))\n",
    "print(client.account_resource(user.address(), bct_coinstore))\n",
    "print(client.account_resource(user.address(), qct_coinstore))"
   ]
  }
 ],
 "metadata": {
  "kernelspec": {
   "display_name": "Python 3 (ipykernel)",
   "language": "python",
   "name": "python3"
  },
  "language_info": {
   "codemirror_mode": {
    "name": "ipython",
    "version": 3
   },
   "file_extension": ".py",
   "mimetype": "text/x-python",
   "name": "python",
   "nbconvert_exporter": "python",
   "pygments_lexer": "ipython3",
   "version": "3.9.12"
  }
 },
 "nbformat": 4,
 "nbformat_minor": 5
}
