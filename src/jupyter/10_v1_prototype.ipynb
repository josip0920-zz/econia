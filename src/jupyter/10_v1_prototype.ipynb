{
 "cells": [
  {
   "cell_type": "markdown",
   "id": "f9569598",
   "metadata": {},
   "source": [
    "# Initialization"
   ]
  },
  {
   "cell_type": "code",
   "execution_count": null,
   "id": "f46a9fb6",
   "metadata": {},
   "outputs": [],
   "source": [
    "from econia.account import Account\n",
    "from econia.rest import EconiaClient"
   ]
  },
  {
   "cell_type": "code",
   "execution_count": null,
   "id": "63f51d50",
   "metadata": {},
   "outputs": [],
   "source": [
    "econia = Account(dev_nb=True)"
   ]
  },
  {
   "cell_type": "code",
   "execution_count": null,
   "id": "67caaf8e",
   "metadata": {},
   "outputs": [],
   "source": [
    "client = EconiaClient()"
   ]
  },
  {
   "cell_type": "markdown",
   "id": "b8ab1c46",
   "metadata": {},
   "source": [
    "Send initialization trigger"
   ]
  },
  {
   "cell_type": "code",
   "execution_count": null,
   "id": "18ecfcdd",
   "metadata": {},
   "outputs": [],
   "source": [
    "client.tx_vn_url_print(client.init_econia(econia))"
   ]
  },
  {
   "cell_type": "markdown",
   "id": "f0b876fc",
   "metadata": {},
   "source": [
    "Verify core structs initialized"
   ]
  },
  {
   "cell_type": "code",
   "execution_count": null,
   "id": "4f4f4b55",
   "metadata": {},
   "outputs": [],
   "source": [
    "client.init_structs(econia.address())"
   ]
  }
 ],
 "metadata": {
  "kernelspec": {
   "display_name": "Python 3 (ipykernel)",
   "language": "python",
   "name": "python3"
  },
  "language_info": {
   "codemirror_mode": {
    "name": "ipython",
    "version": 3
   },
   "file_extension": ".py",
   "mimetype": "text/x-python",
   "name": "python",
   "nbconvert_exporter": "python",
   "pygments_lexer": "ipython3",
   "version": "3.9.12"
  }
 },
 "nbformat": 4,
 "nbformat_minor": 5
}
