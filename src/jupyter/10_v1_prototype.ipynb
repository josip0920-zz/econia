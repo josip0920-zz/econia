{
 "cells": [
  {
   "cell_type": "markdown",
   "id": "f9569598",
   "metadata": {},
   "source": [
    "# Initialization"
   ]
  },
  {
   "cell_type": "code",
   "execution_count": null,
   "id": "f46a9fb6",
   "metadata": {},
   "outputs": [],
   "source": [
    "from econia.account import Account\n",
    "from econia.rest import EconiaClient, move_trio, typed_trio\n",
    "import econia.defs as defs"
   ]
  },
  {
   "cell_type": "code",
   "execution_count": null,
   "id": "6f6b31a1",
   "metadata": {},
   "outputs": [],
   "source": [
    "client = EconiaClient()"
   ]
  },
  {
   "cell_type": "markdown",
   "id": "35a3e97a",
   "metadata": {},
   "source": [
    "## Users"
   ]
  },
  {
   "cell_type": "code",
   "execution_count": null,
   "id": "63f51d50",
   "metadata": {},
   "outputs": [],
   "source": [
    "econia = Account(dev_nb=True)\n",
    "user = Account()"
   ]
  },
  {
   "cell_type": "code",
   "execution_count": null,
   "id": "67caaf8e",
   "metadata": {},
   "outputs": [],
   "source": [
    "# Aliases\n",
    "vn_url = client.tx_vn_url_print\n",
    "coins_module = defs.econia_modules.Coins.name\n",
    "bct_struct = defs.econia_modules.Coins.structs.BCT\n",
    "qct_struct = defs.econia_modules.Coins.structs.QCT\n",
    "BCT = move_trio(econia.address(), coins_module, bct_struct)\n",
    "QCT = move_trio(econia.address(), coins_module, qct_struct)\n",
    "CoinStore = move_trio(\n",
    "    defs.named_addrs.Std,\n",
    "    defs.module_names.Coin,\n",
    "    defs.member_names.CoinStore)\n",
    "bct_coinstore = typed_trio(CoinStore, BCT)\n",
    "qct_coinstore = typed_trio(CoinStore, QCT)\n",
    "E1_struct = defs.econia_modules.Registry.structs.E1\n",
    "registry_module = defs.econia_modules.Registry.name\n",
    "register_market_func = defs.econia_modules.Registry.\\\n",
    "    script_functions.register_market\n",
    "E1 = move_trio(econia.address(), registry_module, E1_struct)\n",
    "user_mod = defs.econia_modules.User.name\n",
    "init_user_func = defs.econia_modules.User.\\\n",
    "    script_functions.init_user\n",
    "init_containers_func = defs.econia_modules.User.\\\n",
    "    script_functions.init_containers\n",
    "deposit_func = defs.econia_modules.User.\\\n",
    "    script_functions.deposit\n",
    "submit_ask_func = defs.econia_modules.User.\\\n",
    "    script_functions.submit_ask\n",
    "match_mod = defs.econia_modules.Match.name\n",
    "submit_market_buy_func = defs.econia_modules.Match.\\\n",
    "    script_functions.submit_market_buy"
   ]
  },
  {
   "cell_type": "code",
   "execution_count": null,
   "id": "a9f5aa78",
   "metadata": {},
   "outputs": [],
   "source": [
    "vn_url(client.mint_testcoin(user.address()))"
   ]
  },
  {
   "cell_type": "markdown",
   "id": "7a475307",
   "metadata": {},
   "source": [
    "## Econia core resources"
   ]
  },
  {
   "cell_type": "markdown",
   "id": "b8ab1c46",
   "metadata": {},
   "source": [
    "Send initialization trigger"
   ]
  },
  {
   "cell_type": "code",
   "execution_count": null,
   "id": "18ecfcdd",
   "metadata": {},
   "outputs": [],
   "source": [
    "vn_url(client.init_econia(econia))"
   ]
  },
  {
   "cell_type": "markdown",
   "id": "f0b876fc",
   "metadata": {},
   "source": [
    "Verify core structs initialized"
   ]
  },
  {
   "cell_type": "code",
   "execution_count": null,
   "id": "4f4f4b55",
   "metadata": {},
   "outputs": [],
   "source": [
    "client.core_structs(econia.address())"
   ]
  },
  {
   "cell_type": "markdown",
   "id": "f215d734",
   "metadata": {},
   "source": [
    "## Coin types"
   ]
  },
  {
   "cell_type": "markdown",
   "id": "360af23f",
   "metadata": {},
   "source": [
    "Initialize mock coin types"
   ]
  },
  {
   "cell_type": "code",
   "execution_count": null,
   "id": "d8aa57af",
   "metadata": {},
   "outputs": [],
   "source": [
    "vn_url(client.init_coin_types(econia))"
   ]
  },
  {
   "cell_type": "markdown",
   "id": "a741b72d",
   "metadata": {},
   "source": [
    "Register a coin store for Econia and for test user"
   ]
  },
  {
   "cell_type": "code",
   "execution_count": null,
   "id": "ea5a9548",
   "metadata": {},
   "outputs": [],
   "source": [
    "vn_url(client.register_coin_store(econia, BCT))\n",
    "vn_url(client.register_coin_store(econia, QCT))\n",
    "vn_url(client.register_coin_store(user, BCT))\n",
    "vn_url(client.register_coin_store(user, QCT))"
   ]
  },
  {
   "cell_type": "markdown",
   "id": "caf1acf5",
   "metadata": {},
   "source": [
    "Mint BCT and QCT to each party"
   ]
  },
  {
   "cell_type": "code",
   "execution_count": null,
   "id": "b1ff3a7d",
   "metadata": {},
   "outputs": [],
   "source": [
    "vn_url(client.coins_mint_to(econia, econia.address(), 1_000_000, 2_000_000))\n",
    "vn_url(client.coins_mint_to(econia, user.address(), 3_000_000, 4_000_000))"
   ]
  },
  {
   "cell_type": "markdown",
   "id": "3a9ee393",
   "metadata": {},
   "source": [
    "Verify holdings for each party"
   ]
  },
  {
   "cell_type": "code",
   "execution_count": null,
   "id": "5033ebcc",
   "metadata": {},
   "outputs": [],
   "source": [
    "print(client.account_resource(econia.address(), bct_coinstore))\n",
    "print(client.account_resource(econia.address(), qct_coinstore))\n",
    "print(client.account_resource(user.address(), bct_coinstore))\n",
    "print(client.account_resource(user.address(), qct_coinstore))"
   ]
  },
  {
   "cell_type": "markdown",
   "id": "99ab5566",
   "metadata": {},
   "source": [
    "# Market/user registration "
   ]
  },
  {
   "cell_type": "markdown",
   "id": "0c383e71",
   "metadata": {},
   "source": [
    "Register a test market with scale exponent 1"
   ]
  },
  {
   "cell_type": "code",
   "execution_count": null,
   "id": "af23ea00",
   "metadata": {},
   "outputs": [],
   "source": [
    "vn_url(client.run_script(\n",
    "    econia,\n",
    "    [econia.address(), registry_module, register_market_func],\n",
    "    type_args=[BCT, QCT, E1]\n",
    "))"
   ]
  },
  {
   "cell_type": "markdown",
   "id": "a8d8cbd7",
   "metadata": {},
   "source": [
    "Init each user's sequence counter"
   ]
  },
  {
   "cell_type": "code",
   "execution_count": null,
   "id": "c6a2ce61",
   "metadata": {},
   "outputs": [],
   "source": [
    "vn_url(client.run_script(\n",
    "    econia,\n",
    "    [econia.address(), user_mod, init_user_func],\n",
    "))\n",
    "vn_url(client.run_script(\n",
    "    user,\n",
    "    [econia.address(), user_mod, init_user_func],\n",
    "))"
   ]
  },
  {
   "cell_type": "markdown",
   "id": "cd429a1d",
   "metadata": {},
   "source": [
    "Init each user with an order collateral container for the test market"
   ]
  },
  {
   "cell_type": "code",
   "execution_count": null,
   "id": "77427966",
   "metadata": {},
   "outputs": [],
   "source": [
    "vn_url(client.run_script(\n",
    "    econia,\n",
    "    [econia.address(), user_mod, init_containers_func],\n",
    "    type_args=[BCT, QCT, E1]\n",
    "))\n",
    "vn_url(client.run_script(\n",
    "    user,\n",
    "    [econia.address(), user_mod, init_containers_func],\n",
    "    type_args=[BCT, QCT, E1]\n",
    "))"
   ]
  },
  {
   "cell_type": "markdown",
   "id": "cbe9a1d8",
   "metadata": {},
   "source": [
    "Deposit base and quote coins into each user's collateral container"
   ]
  },
  {
   "cell_type": "code",
   "execution_count": null,
   "id": "9a9411a1",
   "metadata": {},
   "outputs": [],
   "source": [
    "vn_url(client.run_script(\n",
    "    econia,\n",
    "    [econia.address(), user_mod, deposit_func],\n",
    "    [str(500_000), str(600_000)],\n",
    "    type_args=[BCT, QCT, E1]\n",
    "))\n",
    "vn_url(client.run_script(\n",
    "    user,\n",
    "    [econia.address(), user_mod, deposit_func],\n",
    "    [str(700_000), str(800_000)],\n",
    "    type_args=[BCT, QCT, E1]\n",
    "))"
   ]
  },
  {
   "cell_type": "markdown",
   "id": "93f5c270",
   "metadata": {},
   "source": [
    "# Filling against the book "
   ]
  },
  {
   "cell_type": "markdown",
   "id": "49879213",
   "metadata": {},
   "source": [
    "Have Econia account submit a series of asks"
   ]
  },
  {
   "cell_type": "code",
   "execution_count": null,
   "id": "856979d3",
   "metadata": {},
   "outputs": [],
   "source": [
    "vn_url(client.run_script(\n",
    "    econia,\n",
    "    [econia.address(), user_mod, submit_ask_func],\n",
    "    [econia.address(), str(20), str(7)],\n",
    "    type_args=[BCT, QCT, E1]\n",
    "))\n",
    "vn_url(client.run_script(\n",
    "    econia,\n",
    "    [econia.address(), user_mod, submit_ask_func],\n",
    "    [econia.address(), str(21), str(15)],\n",
    "    type_args=[BCT, QCT, E1]\n",
    "))\n",
    "vn_url(client.run_script(\n",
    "    econia,\n",
    "    [econia.address(), user_mod, submit_ask_func],\n",
    "    [econia.address(), str(22), str(20)],\n",
    "    type_args=[BCT, QCT, E1]\n",
    "))\n",
    "vn_url(client.run_script(\n",
    "    econia,\n",
    "    [econia.address(), user_mod, submit_ask_func],\n",
    "    [econia.address(), str(23), str(25)],\n",
    "    type_args=[BCT, QCT, E1]\n",
    "))\n",
    "vn_url(client.run_script(\n",
    "    econia,\n",
    "    [econia.address(), user_mod, submit_ask_func],\n",
    "    [econia.address(), str(24), str(30)],\n",
    "    type_args=[BCT, QCT, E1]\n",
    "))"
   ]
  },
  {
   "cell_type": "markdown",
   "id": "0da477bb",
   "metadata": {},
   "source": [
    "Have user account submit a market fill that clears out the book"
   ]
  },
  {
   "cell_type": "code",
   "execution_count": null,
   "id": "82534388",
   "metadata": {},
   "outputs": [],
   "source": [
    "vn_url(client.run_script(\n",
    "    user,\n",
    "    [econia.address(), match_mod, submit_market_buy_func],\n",
    "    [econia.address(), str(200), str(400_000)],\n",
    "    type_args=[BCT, QCT, E1]\n",
    "))"
   ]
  }
 ],
 "metadata": {
  "kernelspec": {
   "display_name": "Python 3 (ipykernel)",
   "language": "python",
   "name": "python3"
  },
  "language_info": {
   "codemirror_mode": {
    "name": "ipython",
    "version": 3
   },
   "file_extension": ".py",
   "mimetype": "text/x-python",
   "name": "python",
   "nbconvert_exporter": "python",
   "pygments_lexer": "ipython3",
   "version": "3.9.12"
  }
 },
 "nbformat": 4,
 "nbformat_minor": 5
}
