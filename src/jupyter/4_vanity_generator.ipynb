{
 "cells": [
  {
   "cell_type": "markdown",
   "id": "440d81c1",
   "metadata": {},
   "source": [
    "See https://en.wikipedia.org/wiki/Hexspeak"
   ]
  },
  {
   "cell_type": "code",
   "execution_count": null,
   "id": "844f9a5f",
   "metadata": {},
   "outputs": [],
   "source": [
    "from ultima.chain.account import Account"
   ]
  },
  {
   "cell_type": "code",
   "execution_count": null,
   "id": "2bdfe9de",
   "metadata": {},
   "outputs": [],
   "source": [
    "vanity = 'f00' # Insert hex address here\n",
    "length = len(vanity)"
   ]
  },
  {
   "cell_type": "code",
   "execution_count": null,
   "id": "8a276c8c",
   "metadata": {},
   "outputs": [],
   "source": [
    "%%time\n",
    "account = Account()\n",
    "while(account.address()[0:length] != vanity):\n",
    "    account = Account()\n",
    "print(f'Account address: {account.address()}')"
   ]
  }
 ],
 "metadata": {
  "kernelspec": {
   "display_name": "Python 3 (ipykernel)",
   "language": "python",
   "name": "python3"
  },
  "language_info": {
   "codemirror_mode": {
    "name": "ipython",
    "version": 3
   },
   "file_extension": ".py",
   "mimetype": "text/x-python",
   "name": "python",
   "nbconvert_exporter": "python",
   "pygments_lexer": "ipython3",
   "version": "3.9.12"
  },
  "toc": {
   "base_numbering": 1,
   "nav_menu": {},
   "number_sections": true,
   "sideBar": true,
   "skip_h1_title": false,
   "title_cell": "Table of Contents",
   "title_sidebar": "Contents",
   "toc_cell": false,
   "toc_position": {},
   "toc_section_display": true,
   "toc_window_display": false
  }
 },
 "nbformat": 4,
 "nbformat_minor": 5
}
