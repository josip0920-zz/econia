{
 "cells": [
  {
   "cell_type": "code",
   "execution_count": null,
   "id": "bb20d5e1",
   "metadata": {},
   "outputs": [],
   "source": [
    "import os\n",
    "import random\n",
    "import time\n",
    "\n",
    "from ultima.chain import account, defs, rest\n",
    "from ultima.chain.defs import module_bytecode_dir"
   ]
  },
  {
   "cell_type": "markdown",
   "id": "447928ad",
   "metadata": {},
   "source": [
    "# Address configuration"
   ]
  },
  {
   "cell_type": "code",
   "execution_count": null,
   "id": "6bca92d1",
   "metadata": {},
   "outputs": [],
   "source": [
    "random.seed('client')\n",
    "art = account.Account(random.randbytes(32))\n",
    "bud = account.Account(random.randbytes(32))\n",
    "ultima = account.Account(random.randbytes(32))\n",
    "print(f'Art: {rest.hex_leader(art.address())}')\n",
    "print(f'Bud: {rest.hex_leader(bud.address())}')\n",
    "print(f'Ultima: {rest.hex_leader(ultima.address())}')"
   ]
  },
  {
   "cell_type": "markdown",
   "id": "ef157caf",
   "metadata": {},
   "source": [
    "* Copy Ultima address to `Move.toml` and run `cargo run -- sources`"
   ]
  },
  {
   "cell_type": "markdown",
   "id": "956268d8",
   "metadata": {},
   "source": [
    "# Client setup "
   ]
  },
  {
   "cell_type": "markdown",
   "id": "270fefc6",
   "metadata": {},
   "source": [
    "Set up client and fund accounts"
   ]
  },
  {
   "cell_type": "code",
   "execution_count": null,
   "id": "ce31f7d0",
   "metadata": {},
   "outputs": [],
   "source": [
    "client = rest.Client(defs.networks.devnet)"
   ]
  },
  {
   "cell_type": "code",
   "execution_count": null,
   "id": "7538a58e",
   "metadata": {},
   "outputs": [],
   "source": [
    "client.fund_account(art.auth_key(), 100000)\n",
    "client.fund_account(bud.auth_key(), 100000)\n",
    "client.fund_account(ultima.auth_key(), 100000)\n",
    "time.sleep(1) # Give faucet time to fund"
   ]
  },
  {
   "cell_type": "code",
   "execution_count": null,
   "id": "aeb18ead",
   "metadata": {},
   "outputs": [],
   "source": [
    "print(f'Art balance: {client.testcoin_balance(art.address())}')\n",
    "print(f'Bud balance: {client.testcoin_balance(art.address())}')\n",
    "print(f'Ultima balance: {client.testcoin_balance(art.address())}')"
   ]
  },
  {
   "cell_type": "markdown",
   "id": "aedf620e",
   "metadata": {},
   "source": [
    "# Bytecode "
   ]
  },
  {
   "cell_type": "code",
   "execution_count": null,
   "id": "a2702cd7",
   "metadata": {},
   "outputs": [],
   "source": [
    "# Relative to this notebook\n",
    "ultima_root = os.path.abspath(os.getcwd() + '../../../')"
   ]
  },
  {
   "cell_type": "code",
   "execution_count": null,
   "id": "11545193",
   "metadata": {},
   "outputs": [],
   "source": [
    "bytecode_path = os.path.join(\n",
    "    ultima_root,\n",
    "    module_bytecode_dir,\n",
    "    'Coins.mv'\n",
    ")"
   ]
  },
  {
   "cell_type": "code",
   "execution_count": null,
   "id": "c916a0e6",
   "metadata": {},
   "outputs": [],
   "source": [
    "with open(bytecode_path, 'rb') as f:\n",
    "    module_hex = f.read().hex()\n",
    "module_hex[0:10] + '...' + module_hex[-10:]"
   ]
  },
  {
   "cell_type": "code",
   "execution_count": null,
   "id": "ee24f29c",
   "metadata": {},
   "outputs": [],
   "source": [
    "# Upload to Ultima address\n",
    "tx_hash = client.publish_modules(ultima, [module_hex])\n",
    "print(f'See https://aptos-explorer.netlify.app/txn/{tx_hash}')"
   ]
  },
  {
   "cell_type": "markdown",
   "id": "49c6dfc2",
   "metadata": {},
   "source": [
    "# Coins "
   ]
  },
  {
   "cell_type": "code",
   "execution_count": null,
   "id": "abd261cd",
   "metadata": {},
   "outputs": [],
   "source": [
    "client.account_resources(ultima.address())"
   ]
  },
  {
   "cell_type": "code",
   "execution_count": null,
   "id": "3fe63a2f",
   "metadata": {},
   "outputs": [],
   "source": [
    "tx_hash = client.publish_ultima_holdings(ultima, ultima.address())\n",
    "tx_hash"
   ]
  },
  {
   "cell_type": "code",
   "execution_count": null,
   "id": "46ee4e76",
   "metadata": {},
   "outputs": [],
   "source": [
    "print(f'See https://aptos-explorer.netlify.app/txn/{tx_hash}')"
   ]
  },
  {
   "cell_type": "code",
   "execution_count": null,
   "id": "1dad9689",
   "metadata": {},
   "outputs": [],
   "source": [
    "client.account_resources(ultima.address())"
   ]
  }
 ],
 "metadata": {
  "kernelspec": {
   "display_name": "Python 3 (ipykernel)",
   "language": "python",
   "name": "python3"
  },
  "language_info": {
   "codemirror_mode": {
    "name": "ipython",
    "version": 3
   },
   "file_extension": ".py",
   "mimetype": "text/x-python",
   "name": "python",
   "nbconvert_exporter": "python",
   "pygments_lexer": "ipython3",
   "version": "3.9.12"
  },
  "toc": {
   "base_numbering": 1,
   "nav_menu": {},
   "number_sections": true,
   "sideBar": true,
   "skip_h1_title": false,
   "title_cell": "Table of Contents",
   "title_sidebar": "Contents",
   "toc_cell": false,
   "toc_position": {},
   "toc_section_display": true,
   "toc_window_display": false
  }
 },
 "nbformat": 4,
 "nbformat_minor": 5
}
