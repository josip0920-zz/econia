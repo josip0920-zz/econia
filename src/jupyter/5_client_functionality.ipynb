{
 "cells": [
  {
   "cell_type": "code",
   "execution_count": 1,
   "id": "bb20d5e1",
   "metadata": {},
   "outputs": [],
   "source": [
    "import os\n",
    "import random\n",
    "import time\n",
    "\n",
    "from ultima import account, defs, rest\n",
    "from ultima.build import publish_bytecode\n",
    "from ultima.defs import (\n",
    "    file_extensions,\n",
    "    seps,\n",
    "    ultima_modules,\n",
    "    ultima_paths\n",
    ")"
   ]
  },
  {
   "cell_type": "markdown",
   "id": "447928ad",
   "metadata": {},
   "source": [
    "# Address configuration"
   ]
  },
  {
   "cell_type": "code",
   "execution_count": 2,
   "id": "6bca92d1",
   "metadata": {},
   "outputs": [
    {
     "name": "stdout",
     "output_type": "stream",
     "text": [
      "Art: 0x12d7289dbfb427e1fe64751a78f8d62e8de27c809945344a9c85f9028bc26f57\n",
      "Bud: 0xfd5579c13c2ebd163e2d7c6467facbc9709f2ff8332d2e289ad47ad29919d0ed\n",
      "Ultima: 0x7a9095088d3653498a35fa6bf1c6efae7e2a0f70002795d106a52f9ab946cfda\n"
     ]
    }
   ],
   "source": [
    "random.seed('client')\n",
    "art = account.Account(random.randbytes(32))\n",
    "bud = account.Account(random.randbytes(32))\n",
    "ultima = account.Account(random.randbytes(32))\n",
    "print(f'Art: {rest.hex_leader(art.address())}')\n",
    "print(f'Bud: {rest.hex_leader(bud.address())}')\n",
    "print(f'Ultima: {rest.hex_leader(ultima.address())}')"
   ]
  },
  {
   "cell_type": "markdown",
   "id": "ef157caf",
   "metadata": {},
   "source": [
    "* Copy Ultima address to `Move.toml` and run `cargo run -- sources`"
   ]
  },
  {
   "cell_type": "markdown",
   "id": "956268d8",
   "metadata": {},
   "source": [
    "# Client verification"
   ]
  },
  {
   "cell_type": "markdown",
   "id": "270fefc6",
   "metadata": {},
   "source": [
    "Set up client and fund accounts"
   ]
  },
  {
   "cell_type": "code",
   "execution_count": 3,
   "id": "ce31f7d0",
   "metadata": {},
   "outputs": [],
   "source": [
    "client = rest.Client(defs.networks.devnet)"
   ]
  },
  {
   "cell_type": "code",
   "execution_count": 4,
   "id": "7538a58e",
   "metadata": {},
   "outputs": [],
   "source": [
    "client.mint_testcoin(art.auth_key(), 100000)\n",
    "client.mint_testcoin(bud.auth_key(), 100000)\n",
    "_ = client.mint_testcoin(ultima.auth_key(), 100000)"
   ]
  },
  {
   "cell_type": "code",
   "execution_count": 5,
   "id": "aeb18ead",
   "metadata": {},
   "outputs": [
    {
     "name": "stdout",
     "output_type": "stream",
     "text": [
      "Art balance: 114555\n",
      "Bud balance: 125000\n",
      "Ultima balance: 119816\n"
     ]
    }
   ],
   "source": [
    "print(f'Art balance: {client.testcoin_balance(art.address())}')\n",
    "print(f'Bud balance: {client.testcoin_balance(bud.address())}')\n",
    "print(f'Ultima balance: {client.testcoin_balance(ultima.address())}')"
   ]
  },
  {
   "cell_type": "code",
   "execution_count": 6,
   "id": "f5455112",
   "metadata": {},
   "outputs": [
    {
     "data": {
      "text/plain": [
       "125000"
      ]
     },
     "execution_count": 6,
     "metadata": {},
     "output_type": "execute_result"
    }
   ],
   "source": [
    "client.transfer_testcoin(art, bud.address(), 1000)\n",
    "client.testcoin_balance(bud.address())"
   ]
  },
  {
   "cell_type": "markdown",
   "id": "aedf620e",
   "metadata": {},
   "source": [
    "# Publishing bytecode"
   ]
  },
  {
   "cell_type": "code",
   "execution_count": 7,
   "id": "a2702cd7",
   "metadata": {},
   "outputs": [
    {
     "data": {
      "text/plain": [
       "'0xeef6603999afdaa29956835bcdc60c7ae93b853144190751cc95be5e6283a0a6'"
      ]
     },
     "execution_count": 7,
     "metadata": {},
     "output_type": "execute_result"
    }
   ],
   "source": [
    "publish_bytecode(ultima, '../../')"
   ]
  }
 ],
 "metadata": {
  "kernelspec": {
   "display_name": "Python 3 (ipykernel)",
   "language": "python",
   "name": "python3"
  },
  "language_info": {
   "codemirror_mode": {
    "name": "ipython",
    "version": 3
   },
   "file_extension": ".py",
   "mimetype": "text/x-python",
   "name": "python",
   "nbconvert_exporter": "python",
   "pygments_lexer": "ipython3",
   "version": "3.9.12"
  },
  "toc": {
   "base_numbering": 1,
   "nav_menu": {},
   "number_sections": true,
   "sideBar": true,
   "skip_h1_title": false,
   "title_cell": "Table of Contents",
   "title_sidebar": "Contents",
   "toc_cell": false,
   "toc_position": {},
   "toc_section_display": true,
   "toc_window_display": false
  }
 },
 "nbformat": 4,
 "nbformat_minor": 5
}
